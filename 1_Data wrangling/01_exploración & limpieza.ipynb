{
 "cells": [
  {
   "cell_type": "code",
   "execution_count": 2,
   "metadata": {},
   "outputs": [],
   "source": [
    "import pandas as pd\n",
    "import zipfile"
   ]
  },
  {
   "cell_type": "markdown",
   "metadata": {},
   "source": [
    "## Introducción "
   ]
  },
  {
   "cell_type": "markdown",
   "metadata": {},
   "source": [
    "Este proyecto quiere utilizar el auge positivo del mundo inmobiliario, intentando darle una solución aquellas aplicaciones que se dedican a la venta y alquileres de departamentos, casas y otras propiedades.\n",
    "\n",
    "Problema:\n",
    " En una gran inmobiliaria, estan realizando una modernización para llegar ampliar su alcance a mayores clientes, incorporando la tecnologia. Para ello, estan creando un sotware innovador para publicar, vender, alquilar y realizar otras operaciones. Una de las actualizaciones es la tarea de los tasadores, que estan llevando su rol de manera tradicional, un proceso díficil y a veces subjetivo.\n",
    "\n",
    "Solución:\n",
    " Para dar una respuesta a ello, se propondrá crear un modelo de Machine Learning que a ciertas caracteristicas de las propiedaes, prediga el precio de los inmuebles. "
   ]
  },
  {
   "cell_type": "markdown",
   "metadata": {},
   "source": [
    "Dataset original: data_properati\n",
    "\n",
    "El dataset contiene información sobre propiedades y sus caracterticas dentro de Latinoamerica. A continuación, se describe cada columna:\n",
    "\n",
    "| **Columna**        | **Descripción**                                                                 | **Tipo**                 |\n",
    "|--------------------|---------------------------------------------------------------------------------|--------------------------|\n",
    "| **id**            | Identificador único de cada propiedad.                                           | Categórico (String)      |\n",
    "| **ad_type**       | Tipo de anuncio (si corresponde a una propiedad en alquiler o venta).           | Categórico (String)      |\n",
    "| **start_date**    | Fecha en la que se publicó el anuncio.                                          | Categórico (String)      |\n",
    "| **end_date**      | Fecha en la que el anuncio dejó de estar disponible.                            | Categórico (String)      |\n",
    "| **created_on**    | Fecha de creación del registro en la base de datos.                            | Categórico (String)      |\n",
    "| **lat**          | Latitud de la ubicación de la propiedad.                                        | Numérico (Flotante)      |\n",
    "| **lon**          | Longitud de la ubicación de la propiedad.                                       | Numérico (Flotante)      |\n",
    "| **l1**           | País en el que se encuentra la propiedad.                                       | Categórico (String)      |\n",
    "| **l2**           | Provincia o estado donde se encuentra la propiedad.                            | Categórico (String)      |\n",
    "| **l3**           | Ciudad o localidad donde se encuentra la propiedad.                            | Categórico (String)      |\n",
    "| **rooms**        | Cantidad total de ambientes de la propiedad.                                   | Numérico (Flotante)      |\n",
    "| **bedrooms**     | Cantidad de dormitorios de la propiedad.                                       | Numérico (Flotante)      |\n",
    "| **bathrooms**    | Cantidad de baños de la propiedad.                                             | Numérico (Flotante)      |\n",
    "| **surface_total**  | Superficie total de la propiedad en metros cuadrados.                        | Numérico (Flotante)      |\n",
    "| **surface_covered**| Superficie cubierta de la propiedad en metros cuadrados.                     | Numérico (Flotante)      |\n",
    "| **price**        | Precio de la propiedad en la moneda indicada.                                 | Numérico (Flotante)      |\n",
    "| **currency**     | Moneda en la que está expresado el precio (por ejemplo, USD, ARS, UYU).      | Categórico (String)      |\n",
    "| **price_period** | Periodo de tiempo al que corresponde el precio (por ejemplo, mensual, anual). | Categórico (String)      |\n",
    "| **title**        | Título del anuncio de la propiedad.                                           | Categórico (String)      |\n",
    "| **description**  | Descripción detallada de la propiedad en el anuncio. Puede incluir etiquetas HTML. | Categórico (String)  |\n",
    "| **property_type**| Tipo de propiedad (por ejemplo, departamento, casa, PH, local comercial).    | Categórico (String)      |\n",
    "| **operation_type**| Tipo de operación (venta o alquiler).                                       | Categórico (String)      |\n"
   ]
  },
  {
   "cell_type": "markdown",
   "metadata": {},
   "source": [
    "## Data Wrangling"
   ]
  },
  {
   "cell_type": "markdown",
   "metadata": {},
   "source": [
    "### 1) Exploración"
   ]
  },
  {
   "cell_type": "code",
   "execution_count": 3,
   "metadata": {},
   "outputs": [
    {
     "name": "stdout",
     "output_type": "stream",
     "text": [
      "                         id    ad_type  start_date    end_date  created_on  \\\n",
      "0  fmHRPwLNda4lAWnkAHuqUA==  Propiedad  2020-12-26  2021-01-11  2020-12-26   \n",
      "1  ya84G5MFlLS5AhrvoE8BDA==  Propiedad  2020-12-26  2020-12-27  2020-12-26   \n",
      "2  aVHalWslWRaUFFVXOwcKCQ==  Propiedad  2020-12-26  9999-12-31  2020-12-26   \n",
      "3  uTw1Fc2aS1k/ic+idHpUsQ==  Propiedad  2020-12-26  9999-12-31  2020-12-26   \n",
      "4  ZGyAXBl38Bp3zOUNNw47QA==  Propiedad  2020-12-26  9999-12-31  2020-12-26   \n",
      "\n",
      "         lat        lon         l1                        l2         l3  ...  \\\n",
      "0 -34.466060 -58.614506  Argentina  Bs.As. G.B.A. Zona Norte      Tigre  ...   \n",
      "1 -34.386038 -58.674186  Argentina  Bs.As. G.B.A. Zona Norte      Tigre  ...   \n",
      "2 -34.648427 -58.630494  Argentina  Bs.As. G.B.A. Zona Oeste      Morón  ...   \n",
      "3 -34.649915 -58.590843  Argentina  Bs.As. G.B.A. Zona Oeste      Morón  ...   \n",
      "4 -34.640844 -58.669036  Argentina                Corrientes  Ituzaingó  ...   \n",
      "\n",
      "  bathrooms surface_total  surface_covered     price  currency  price_period  \\\n",
      "0       6.0           NaN              NaN    4000.0       USD           NaN   \n",
      "1       2.0           NaN              NaN  125000.0       USD           NaN   \n",
      "2       NaN           NaN              NaN  520000.0       USD           NaN   \n",
      "3       NaN           NaN              NaN  165000.0       USD           NaN   \n",
      "4       NaN           NaN              NaN  135000.0       USD           NaN   \n",
      "\n",
      "                                               title  \\\n",
      "0  Casa  en Alquiler ubicado en Pacheco Golf Club...   \n",
      "1  Casa  en Venta ubicado en Casas de Santa Ana, ...   \n",
      "2     Casa  en Venta ubicado en Castelar, Zona Oeste   \n",
      "3  Venta Duplex 3 Ambientes con Fondo Libre de 20...   \n",
      "4            PH de 4 Amb C/cochera - Ituzaingo Norte   \n",
      "\n",
      "                                         description  property_type  \\\n",
      "0  Excelente casa en venta en Pacheco Golf. \\nALQ...           Casa   \n",
      "1  CASA EN OBRA, ENTREGA SEPTIEMBRE 2021!!!!\\n\\nC...           Casa   \n",
      "2  EXCELENTE CHALET DE CATEGORIA EN MAGINIFICA UB...           Casa   \n",
      "3  Duplex ubicado en el Pasaje Intendente Carrere...           Casa   \n",
      "4  Propiedad ubicada en hermosa zona de Ituzaingo...           Casa   \n",
      "\n",
      "  operation_type  \n",
      "0       Alquiler  \n",
      "1          Venta  \n",
      "2          Venta  \n",
      "3          Venta  \n",
      "4          Venta  \n",
      "\n",
      "[5 rows x 25 columns]\n"
     ]
    }
   ],
   "source": [
    "zip_path= '../data/---raw/ar_properties.csv.zip'\n",
    "csv_filename='ar_properties.csv'\n",
    "\n",
    "with zipfile.ZipFile(zip_path) as z:\n",
    "    with z.open(csv_filename) as f:\n",
    "        data_ar = pd.read_csv(f)\n",
    "\n",
    "print(data_ar.head())"
   ]
  },
  {
   "cell_type": "code",
   "execution_count": 4,
   "metadata": {},
   "outputs": [
    {
     "name": "stdout",
     "output_type": "stream",
     "text": [
      "<class 'pandas.core.frame.DataFrame'>\n",
      "RangeIndex: 1000000 entries, 0 to 999999\n",
      "Data columns (total 25 columns):\n",
      " #   Column           Non-Null Count    Dtype  \n",
      "---  ------           --------------    -----  \n",
      " 0   id               1000000 non-null  object \n",
      " 1   ad_type          1000000 non-null  object \n",
      " 2   start_date       1000000 non-null  object \n",
      " 3   end_date         1000000 non-null  object \n",
      " 4   created_on       1000000 non-null  object \n",
      " 5   lat              882875 non-null   float64\n",
      " 6   lon              882632 non-null   float64\n",
      " 7   l1               1000000 non-null  object \n",
      " 8   l2               1000000 non-null  object \n",
      " 9   l3               967428 non-null   object \n",
      " 10  l4               284385 non-null   object \n",
      " 11  l5               5834 non-null     object \n",
      " 12  l6               0 non-null        float64\n",
      " 13  rooms            678008 non-null   float64\n",
      " 14  bedrooms         618956 non-null   float64\n",
      " 15  bathrooms        768087 non-null   float64\n",
      " 16  surface_total    429133 non-null   float64\n",
      " 17  surface_covered  435069 non-null   float64\n",
      " 18  price            958382 non-null   float64\n",
      " 19  currency         956823 non-null   object \n",
      " 20  price_period     413540 non-null   object \n",
      " 21  title            999999 non-null   object \n",
      " 22  description      999958 non-null   object \n",
      " 23  property_type    1000000 non-null  object \n",
      " 24  operation_type   1000000 non-null  object \n",
      "dtypes: float64(9), object(16)\n",
      "memory usage: 190.7+ MB\n",
      "None\n"
     ]
    }
   ],
   "source": [
    "print(data_ar.info())"
   ]
  },
  {
   "cell_type": "code",
   "execution_count": 5,
   "metadata": {},
   "outputs": [
    {
     "name": "stdout",
     "output_type": "stream",
     "text": [
      "                              id    ad_type  start_date    end_date  \\\n",
      "529739  UC/qxNUGab2TDO4t35WINw==  Propiedad  2020-09-23  2020-10-02   \n",
      "152693  2a2q3iTN84LGMFCXsas8zQ==  Propiedad  2021-04-07  9999-12-31   \n",
      "823935  1n9/5UOw/57RuZLrSip+FA==  Propiedad  2021-04-15  2021-06-05   \n",
      "330023  DZ01xYpEC8WCm0yekIBE+A==  Propiedad  2021-02-24  2021-03-09   \n",
      "775596  WQnoTdMtjS8wRwtnP/PQMA==  Propiedad  2020-10-19  2020-10-29   \n",
      "751785  WoPOYSFfaE0iZldGU6H3pg==  Propiedad  2020-04-10  9999-12-31   \n",
      "450244  hg9IeHe9e3QCcrVMITBaPw==  Propiedad  2020-05-06  2020-05-20   \n",
      "465682  /ZquS+pcOLl5q9kDsZ21hQ==  Propiedad  2020-05-09  2020-05-26   \n",
      "964134  WDYQxhtVi3IU30nRuNvJ+w==  Propiedad  2020-05-30  2020-09-23   \n",
      "921835  UNpVsmOtHuC7lbe32jPjdw==  Propiedad  2020-09-22  2020-09-23   \n",
      "\n",
      "        created_on        lat        lon         l1                        l2  \\\n",
      "529739  2020-09-23        NaN        NaN  Argentina  Bs.As. G.B.A. Zona Norte   \n",
      "152693  2021-04-07 -34.561677 -58.450053  Argentina           Capital Federal   \n",
      "823935  2021-04-15        NaN        NaN  Argentina  Bs.As. G.B.A. Zona Norte   \n",
      "330023  2021-02-24 -34.367010 -58.741233  Argentina  Bs.As. G.B.A. Zona Norte   \n",
      "775596  2020-10-19        NaN        NaN  Argentina  Bs.As. G.B.A. Zona Norte   \n",
      "751785  2020-04-10 -34.746486 -58.278061  Argentina    Bs.As. G.B.A. Zona Sur   \n",
      "450244  2020-05-06 -34.584124 -58.424087  Argentina           Capital Federal   \n",
      "465682  2020-05-09 -34.775775 -58.392913  Argentina    Bs.As. G.B.A. Zona Sur   \n",
      "964134  2020-05-30 -34.616280 -58.688961  Argentina  Bs.As. G.B.A. Zona Oeste   \n",
      "921835  2020-09-22 -32.961371 -60.644423  Argentina                  Santa Fe   \n",
      "\n",
      "                     l3  ... bathrooms surface_total  surface_covered  \\\n",
      "529739          Escobar  ...       NaN        1025.0              NaN   \n",
      "152693         Belgrano  ...       3.0           NaN              NaN   \n",
      "823935            Tigre  ...       NaN           NaN              NaN   \n",
      "330023          Escobar  ...       NaN           NaN              NaN   \n",
      "775596          Escobar  ...       4.0           NaN            310.0   \n",
      "751785          Quilmes  ...       1.0           NaN              NaN   \n",
      "450244          Palermo  ...       2.0          80.0             74.0   \n",
      "465682  Lomas de Zamora  ...       1.0           NaN              NaN   \n",
      "964134        Ituzaingó  ...       5.0         290.0            290.0   \n",
      "921835          Rosario  ...       2.0          32.0             32.0   \n",
      "\n",
      "           price  currency  price_period  \\\n",
      "529739   40000.0       USD           NaN   \n",
      "152693    1600.0       USD           NaN   \n",
      "823935  220000.0       USD       Mensual   \n",
      "330023   24000.0       USD       Mensual   \n",
      "775596    4300.0       USD       Mensual   \n",
      "751785   77000.0       USD           NaN   \n",
      "450244  169000.0       USD           NaN   \n",
      "465682   89000.0       USD           NaN   \n",
      "964134  450000.0       USD           NaN   \n",
      "921835   62000.0       USD       Mensual   \n",
      "\n",
      "                                                    title  \\\n",
      "529739  Boote Lote / N° 0 - U$D 40.000 - Terreno en Venta   \n",
      "152693         Belgrano - Departamento Alquiler USD 1.600   \n",
      "823935  LOTE | EN VENTA |AL GOLF|BARRIO SAN ISIDRO LAB...   \n",
      "330023                      Terreno - Ingeniero Maschwitz   \n",
      "775596                Casa a la laguna alquiler temporal    \n",
      "751785             Departamento en Venta en Quilmes Oeste   \n",
      "450244  Departamento de 3 ambientes en Venta en Palerm...   \n",
      "465682  Casa en Venta en Temperley oeste,  temperley  ...   \n",
      "964134  De Los Baqueanos  900 - U$D 450.000 - Casa en ...   \n",
      "921835             Monoambiente a estrenar con mucha onda   \n",
      "\n",
      "                                              description  property_type  \\\n",
      "529739  Excelente lote  de 1026 mts, con 36 mts de cos...           Lote   \n",
      "152693  Muy buen semipiso en la mejor zona de Belgrano...   Departamento   \n",
      "823935  LOTE | EN VENTA |AL GOLF|BARRIO SAN ISIDRO LAB...           Lote   \n",
      "330023  Excelente lote perimetral en Barrio El Ensueño...           Lote   \n",
      "775596  Muy linda casa a la laguna en alquiler desde d...           Casa   \n",
      "751785  PLANTA BAJA \\nLIVING COMEDOR - COCINA - 1 DORM...   Departamento   \n",
      "450244  Excelente departamento de 3 ambientes, ventila...   Departamento   \n",
      "465682  Complejo de 8 unidades. \\nDuplex de 3 ambiente...           Casa   \n",
      "964134  Casa estilo Campo en dos plantas.En planta baj...           Casa   \n",
      "921835  CERRITO 1265<br>Monoambiente a estrenar con mu...   Departamento   \n",
      "\n",
      "           operation_type  \n",
      "529739              Venta  \n",
      "152693           Alquiler  \n",
      "823935              Venta  \n",
      "330023              Venta  \n",
      "775596  Alquiler temporal  \n",
      "751785              Venta  \n",
      "450244              Venta  \n",
      "465682              Venta  \n",
      "964134              Venta  \n",
      "921835              Venta  \n",
      "\n",
      "[10 rows x 25 columns]\n"
     ]
    },
    {
     "data": {
      "text/html": [
       "<div>\n",
       "<style scoped>\n",
       "    .dataframe tbody tr th:only-of-type {\n",
       "        vertical-align: middle;\n",
       "    }\n",
       "\n",
       "    .dataframe tbody tr th {\n",
       "        vertical-align: top;\n",
       "    }\n",
       "\n",
       "    .dataframe thead th {\n",
       "        text-align: right;\n",
       "    }\n",
       "</style>\n",
       "<table border=\"1\" class=\"dataframe\">\n",
       "  <thead>\n",
       "    <tr style=\"text-align: right;\">\n",
       "      <th></th>\n",
       "      <th>id</th>\n",
       "      <th>ad_type</th>\n",
       "      <th>start_date</th>\n",
       "      <th>end_date</th>\n",
       "      <th>created_on</th>\n",
       "      <th>lat</th>\n",
       "      <th>lon</th>\n",
       "      <th>l1</th>\n",
       "      <th>l2</th>\n",
       "      <th>l3</th>\n",
       "      <th>...</th>\n",
       "      <th>bathrooms</th>\n",
       "      <th>surface_total</th>\n",
       "      <th>surface_covered</th>\n",
       "      <th>price</th>\n",
       "      <th>currency</th>\n",
       "      <th>price_period</th>\n",
       "      <th>title</th>\n",
       "      <th>description</th>\n",
       "      <th>property_type</th>\n",
       "      <th>operation_type</th>\n",
       "    </tr>\n",
       "  </thead>\n",
       "  <tbody>\n",
       "    <tr>\n",
       "      <th>999990</th>\n",
       "      <td>GQzHWOLySTXcZvMopnwpbw==</td>\n",
       "      <td>Propiedad</td>\n",
       "      <td>2020-12-02</td>\n",
       "      <td>2021-03-10</td>\n",
       "      <td>2020-12-02</td>\n",
       "      <td>-34.901085</td>\n",
       "      <td>-56.176977</td>\n",
       "      <td>Uruguay</td>\n",
       "      <td>Montevideo</td>\n",
       "      <td>NaN</td>\n",
       "      <td>...</td>\n",
       "      <td>1.0</td>\n",
       "      <td>40.0</td>\n",
       "      <td>40.0</td>\n",
       "      <td>23000.0</td>\n",
       "      <td>UYU</td>\n",
       "      <td>Mensual</td>\n",
       "      <td>Local Comercial en Alquiler - Centro</td>\n",
       "      <td>Local Comercial en Alquiler - Centro&lt;br&gt; Baño&lt;...</td>\n",
       "      <td>Departamento</td>\n",
       "      <td>Alquiler</td>\n",
       "    </tr>\n",
       "    <tr>\n",
       "      <th>999991</th>\n",
       "      <td>er5hS7wBKQtEpq0toqrdHQ==</td>\n",
       "      <td>Propiedad</td>\n",
       "      <td>2020-12-02</td>\n",
       "      <td>2021-01-19</td>\n",
       "      <td>2020-12-02</td>\n",
       "      <td>-34.915374</td>\n",
       "      <td>-56.159642</td>\n",
       "      <td>Uruguay</td>\n",
       "      <td>Montevideo</td>\n",
       "      <td>NaN</td>\n",
       "      <td>...</td>\n",
       "      <td>1.0</td>\n",
       "      <td>39.0</td>\n",
       "      <td>39.0</td>\n",
       "      <td>17000.0</td>\n",
       "      <td>UYU</td>\n",
       "      <td>Mensual</td>\n",
       "      <td>Monoambiente en alquiler con garaje en Punta C...</td>\n",
       "      <td>Apartamento monoambiente en alquiler en Punta ...</td>\n",
       "      <td>Departamento</td>\n",
       "      <td>Alquiler</td>\n",
       "    </tr>\n",
       "    <tr>\n",
       "      <th>999992</th>\n",
       "      <td>8grJ9oei0Ku3jKBW/xlkZg==</td>\n",
       "      <td>Propiedad</td>\n",
       "      <td>2020-12-02</td>\n",
       "      <td>2020-12-11</td>\n",
       "      <td>2020-12-02</td>\n",
       "      <td>-34.896064</td>\n",
       "      <td>-56.166007</td>\n",
       "      <td>Uruguay</td>\n",
       "      <td>Montevideo</td>\n",
       "      <td>NaN</td>\n",
       "      <td>...</td>\n",
       "      <td>1.0</td>\n",
       "      <td>45.0</td>\n",
       "      <td>45.0</td>\n",
       "      <td>18700.0</td>\n",
       "      <td>UYU</td>\n",
       "      <td>Mensual</td>\n",
       "      <td>Apartamento - Tres Cruces</td>\n",
       "      <td>Apartamento de 1 dormitorio en alquiler en Tre...</td>\n",
       "      <td>Departamento</td>\n",
       "      <td>Alquiler</td>\n",
       "    </tr>\n",
       "    <tr>\n",
       "      <th>999993</th>\n",
       "      <td>/FqeY0xN/aZ3N6MpgXSJ7w==</td>\n",
       "      <td>Propiedad</td>\n",
       "      <td>2020-12-02</td>\n",
       "      <td>2020-12-18</td>\n",
       "      <td>2020-12-02</td>\n",
       "      <td>-34.911440</td>\n",
       "      <td>-56.186282</td>\n",
       "      <td>Uruguay</td>\n",
       "      <td>Montevideo</td>\n",
       "      <td>NaN</td>\n",
       "      <td>...</td>\n",
       "      <td>1.0</td>\n",
       "      <td>57.0</td>\n",
       "      <td>42.0</td>\n",
       "      <td>25000.0</td>\n",
       "      <td>UYU</td>\n",
       "      <td>Mensual</td>\n",
       "      <td>¡Increíble vista! 1 dormitorio en alquiler, te...</td>\n",
       "      <td>Apartamento de 1 dormitorio en alquiler en Bar...</td>\n",
       "      <td>Departamento</td>\n",
       "      <td>Alquiler</td>\n",
       "    </tr>\n",
       "    <tr>\n",
       "      <th>999994</th>\n",
       "      <td>sRjgJ6vHFutdCxLWJwK4qQ==</td>\n",
       "      <td>Propiedad</td>\n",
       "      <td>2020-12-02</td>\n",
       "      <td>2021-01-21</td>\n",
       "      <td>2020-12-02</td>\n",
       "      <td>-34.870624</td>\n",
       "      <td>-56.184851</td>\n",
       "      <td>Uruguay</td>\n",
       "      <td>Montevideo</td>\n",
       "      <td>NaN</td>\n",
       "      <td>...</td>\n",
       "      <td>1.0</td>\n",
       "      <td>45.0</td>\n",
       "      <td>NaN</td>\n",
       "      <td>15900.0</td>\n",
       "      <td>UYU</td>\n",
       "      <td>Mensual</td>\n",
       "      <td>Alquiler apartamento, casita en Brazo oriental...</td>\n",
       "      <td>Alquiler de apartamento en  Brazo Oriental, en...</td>\n",
       "      <td>PH</td>\n",
       "      <td>Alquiler</td>\n",
       "    </tr>\n",
       "    <tr>\n",
       "      <th>999995</th>\n",
       "      <td>RwxCSDKk259qAY8vO6VKCA==</td>\n",
       "      <td>Propiedad</td>\n",
       "      <td>2020-12-02</td>\n",
       "      <td>2021-01-12</td>\n",
       "      <td>2020-12-02</td>\n",
       "      <td>-34.465824</td>\n",
       "      <td>-57.842673</td>\n",
       "      <td>Uruguay</td>\n",
       "      <td>Colonia</td>\n",
       "      <td>NaN</td>\n",
       "      <td>...</td>\n",
       "      <td>2.0</td>\n",
       "      <td>108.0</td>\n",
       "      <td>108.0</td>\n",
       "      <td>20000.0</td>\n",
       "      <td>UYU</td>\n",
       "      <td>Mensual</td>\n",
       "      <td>Casa - Colonia del Sacramento</td>\n",
       "      <td>Casa recientemente reciclada en pleno centro, ...</td>\n",
       "      <td>Casa</td>\n",
       "      <td>Alquiler</td>\n",
       "    </tr>\n",
       "    <tr>\n",
       "      <th>999996</th>\n",
       "      <td>uUh7N3jRuR8yF08X6zSurg==</td>\n",
       "      <td>Propiedad</td>\n",
       "      <td>2020-12-02</td>\n",
       "      <td>2021-04-22</td>\n",
       "      <td>2020-12-02</td>\n",
       "      <td>-34.897735</td>\n",
       "      <td>-56.166230</td>\n",
       "      <td>Uruguay</td>\n",
       "      <td>Montevideo</td>\n",
       "      <td>NaN</td>\n",
       "      <td>...</td>\n",
       "      <td>1.0</td>\n",
       "      <td>58.0</td>\n",
       "      <td>58.0</td>\n",
       "      <td>26000.0</td>\n",
       "      <td>UYU</td>\n",
       "      <td>Mensual</td>\n",
       "      <td>2 Dormitorios | Con garaje | Tres Cruces</td>\n",
       "      <td>¡Apartamento con garaje incluido en Tres Cruce...</td>\n",
       "      <td>Departamento</td>\n",
       "      <td>Alquiler</td>\n",
       "    </tr>\n",
       "    <tr>\n",
       "      <th>999997</th>\n",
       "      <td>BCVP/E4Q1B8QhOlTh7X4Ug==</td>\n",
       "      <td>Propiedad</td>\n",
       "      <td>2020-12-02</td>\n",
       "      <td>2020-12-15</td>\n",
       "      <td>2020-12-02</td>\n",
       "      <td>-33.995386</td>\n",
       "      <td>-58.286154</td>\n",
       "      <td>Uruguay</td>\n",
       "      <td>Colonia</td>\n",
       "      <td>Carmelo</td>\n",
       "      <td>...</td>\n",
       "      <td>1.0</td>\n",
       "      <td>60.0</td>\n",
       "      <td>NaN</td>\n",
       "      <td>12500.0</td>\n",
       "      <td>UYU</td>\n",
       "      <td>Mensual</td>\n",
       "      <td>Alquiler</td>\n",
       "      <td>CASA A ESTRENAR EN ZONA DE EXPANSIÓN&lt;br&gt;&lt;br&gt;LA...</td>\n",
       "      <td>Casa</td>\n",
       "      <td>Alquiler</td>\n",
       "    </tr>\n",
       "    <tr>\n",
       "      <th>999998</th>\n",
       "      <td>2/w++6rW0EKlqeP2J7MpPQ==</td>\n",
       "      <td>Propiedad</td>\n",
       "      <td>2020-12-02</td>\n",
       "      <td>2021-04-06</td>\n",
       "      <td>2020-12-02</td>\n",
       "      <td>-34.917295</td>\n",
       "      <td>-56.150024</td>\n",
       "      <td>Uruguay</td>\n",
       "      <td>Montevideo</td>\n",
       "      <td>Pocitos</td>\n",
       "      <td>...</td>\n",
       "      <td>2.0</td>\n",
       "      <td>135.0</td>\n",
       "      <td>135.0</td>\n",
       "      <td>75000.0</td>\n",
       "      <td>UYU</td>\n",
       "      <td>Mensual</td>\n",
       "      <td>Apartamento - Pocitos</td>\n",
       "      <td>Alquiler de apartamento de 2 dormitorios con p...</td>\n",
       "      <td>Departamento</td>\n",
       "      <td>Alquiler</td>\n",
       "    </tr>\n",
       "    <tr>\n",
       "      <th>999999</th>\n",
       "      <td>AOhK8l0PxgaqdnAkc4qO4w==</td>\n",
       "      <td>Propiedad</td>\n",
       "      <td>2020-12-02</td>\n",
       "      <td>2020-12-09</td>\n",
       "      <td>2020-12-02</td>\n",
       "      <td>-33.995386</td>\n",
       "      <td>-58.286154</td>\n",
       "      <td>Uruguay</td>\n",
       "      <td>Colonia</td>\n",
       "      <td>Carmelo</td>\n",
       "      <td>...</td>\n",
       "      <td>1.0</td>\n",
       "      <td>NaN</td>\n",
       "      <td>NaN</td>\n",
       "      <td>11000.0</td>\n",
       "      <td>UYU</td>\n",
       "      <td>Mensual</td>\n",
       "      <td>Casa - Carmelo</td>\n",
       "      <td>APARTAMENTO EN VIVIENDAS L-23&lt;br&gt;&lt;br&gt;COMPUESTO...</td>\n",
       "      <td>Casa</td>\n",
       "      <td>Alquiler</td>\n",
       "    </tr>\n",
       "  </tbody>\n",
       "</table>\n",
       "<p>10 rows × 25 columns</p>\n",
       "</div>"
      ],
      "text/plain": [
       "                              id    ad_type  start_date    end_date  \\\n",
       "999990  GQzHWOLySTXcZvMopnwpbw==  Propiedad  2020-12-02  2021-03-10   \n",
       "999991  er5hS7wBKQtEpq0toqrdHQ==  Propiedad  2020-12-02  2021-01-19   \n",
       "999992  8grJ9oei0Ku3jKBW/xlkZg==  Propiedad  2020-12-02  2020-12-11   \n",
       "999993  /FqeY0xN/aZ3N6MpgXSJ7w==  Propiedad  2020-12-02  2020-12-18   \n",
       "999994  sRjgJ6vHFutdCxLWJwK4qQ==  Propiedad  2020-12-02  2021-01-21   \n",
       "999995  RwxCSDKk259qAY8vO6VKCA==  Propiedad  2020-12-02  2021-01-12   \n",
       "999996  uUh7N3jRuR8yF08X6zSurg==  Propiedad  2020-12-02  2021-04-22   \n",
       "999997  BCVP/E4Q1B8QhOlTh7X4Ug==  Propiedad  2020-12-02  2020-12-15   \n",
       "999998  2/w++6rW0EKlqeP2J7MpPQ==  Propiedad  2020-12-02  2021-04-06   \n",
       "999999  AOhK8l0PxgaqdnAkc4qO4w==  Propiedad  2020-12-02  2020-12-09   \n",
       "\n",
       "        created_on        lat        lon       l1          l2       l3  ...  \\\n",
       "999990  2020-12-02 -34.901085 -56.176977  Uruguay  Montevideo      NaN  ...   \n",
       "999991  2020-12-02 -34.915374 -56.159642  Uruguay  Montevideo      NaN  ...   \n",
       "999992  2020-12-02 -34.896064 -56.166007  Uruguay  Montevideo      NaN  ...   \n",
       "999993  2020-12-02 -34.911440 -56.186282  Uruguay  Montevideo      NaN  ...   \n",
       "999994  2020-12-02 -34.870624 -56.184851  Uruguay  Montevideo      NaN  ...   \n",
       "999995  2020-12-02 -34.465824 -57.842673  Uruguay     Colonia      NaN  ...   \n",
       "999996  2020-12-02 -34.897735 -56.166230  Uruguay  Montevideo      NaN  ...   \n",
       "999997  2020-12-02 -33.995386 -58.286154  Uruguay     Colonia  Carmelo  ...   \n",
       "999998  2020-12-02 -34.917295 -56.150024  Uruguay  Montevideo  Pocitos  ...   \n",
       "999999  2020-12-02 -33.995386 -58.286154  Uruguay     Colonia  Carmelo  ...   \n",
       "\n",
       "       bathrooms surface_total  surface_covered    price  currency  \\\n",
       "999990       1.0          40.0             40.0  23000.0       UYU   \n",
       "999991       1.0          39.0             39.0  17000.0       UYU   \n",
       "999992       1.0          45.0             45.0  18700.0       UYU   \n",
       "999993       1.0          57.0             42.0  25000.0       UYU   \n",
       "999994       1.0          45.0              NaN  15900.0       UYU   \n",
       "999995       2.0         108.0            108.0  20000.0       UYU   \n",
       "999996       1.0          58.0             58.0  26000.0       UYU   \n",
       "999997       1.0          60.0              NaN  12500.0       UYU   \n",
       "999998       2.0         135.0            135.0  75000.0       UYU   \n",
       "999999       1.0           NaN              NaN  11000.0       UYU   \n",
       "\n",
       "        price_period                                              title  \\\n",
       "999990       Mensual               Local Comercial en Alquiler - Centro   \n",
       "999991       Mensual  Monoambiente en alquiler con garaje en Punta C...   \n",
       "999992       Mensual                          Apartamento - Tres Cruces   \n",
       "999993       Mensual  ¡Increíble vista! 1 dormitorio en alquiler, te...   \n",
       "999994       Mensual  Alquiler apartamento, casita en Brazo oriental...   \n",
       "999995       Mensual                      Casa - Colonia del Sacramento   \n",
       "999996       Mensual           2 Dormitorios | Con garaje | Tres Cruces   \n",
       "999997       Mensual                                          Alquiler    \n",
       "999998       Mensual                              Apartamento - Pocitos   \n",
       "999999       Mensual                                     Casa - Carmelo   \n",
       "\n",
       "                                              description  property_type  \\\n",
       "999990  Local Comercial en Alquiler - Centro<br> Baño<...   Departamento   \n",
       "999991  Apartamento monoambiente en alquiler en Punta ...   Departamento   \n",
       "999992  Apartamento de 1 dormitorio en alquiler en Tre...   Departamento   \n",
       "999993  Apartamento de 1 dormitorio en alquiler en Bar...   Departamento   \n",
       "999994  Alquiler de apartamento en  Brazo Oriental, en...             PH   \n",
       "999995  Casa recientemente reciclada en pleno centro, ...           Casa   \n",
       "999996  ¡Apartamento con garaje incluido en Tres Cruce...   Departamento   \n",
       "999997  CASA A ESTRENAR EN ZONA DE EXPANSIÓN<br><br>LA...           Casa   \n",
       "999998  Alquiler de apartamento de 2 dormitorios con p...   Departamento   \n",
       "999999  APARTAMENTO EN VIVIENDAS L-23<br><br>COMPUESTO...           Casa   \n",
       "\n",
       "       operation_type  \n",
       "999990       Alquiler  \n",
       "999991       Alquiler  \n",
       "999992       Alquiler  \n",
       "999993       Alquiler  \n",
       "999994       Alquiler  \n",
       "999995       Alquiler  \n",
       "999996       Alquiler  \n",
       "999997       Alquiler  \n",
       "999998       Alquiler  \n",
       "999999       Alquiler  \n",
       "\n",
       "[10 rows x 25 columns]"
      ]
     },
     "execution_count": 5,
     "metadata": {},
     "output_type": "execute_result"
    }
   ],
   "source": [
    "print(data_ar.sample(10))\n",
    "data_ar.tail(10)"
   ]
  },
  {
   "cell_type": "markdown",
   "metadata": {},
   "source": [
    "Conclusiones: \n",
    "\n",
    "Considerando las exploraciones superficiales realizadas:\n",
    "\n",
    " En [l1] hay paises como Argentina, Uruguay. Siguiendo el objetivo principal, se decide focalizar en el país Argentina. "
   ]
  },
  {
   "cell_type": "code",
   "execution_count": 6,
   "metadata": {},
   "outputs": [
    {
     "name": "stdout",
     "output_type": "stream",
     "text": [
      "id                       0\n",
      "ad_type                  0\n",
      "start_date               0\n",
      "end_date                 0\n",
      "created_on               0\n",
      "lat                 117125\n",
      "lon                 117368\n",
      "l1                       0\n",
      "l2                       0\n",
      "l3                   32572\n",
      "l4                  715615\n",
      "l5                  994166\n",
      "l6                 1000000\n",
      "rooms               321992\n",
      "bedrooms            381044\n",
      "bathrooms           231913\n",
      "surface_total       570867\n",
      "surface_covered     564931\n",
      "price                41618\n",
      "currency             43177\n",
      "price_period        586460\n",
      "title                    1\n",
      "description             42\n",
      "property_type            0\n",
      "operation_type           0\n",
      "dtype: int64\n"
     ]
    }
   ],
   "source": [
    "#contar la cantidad de nulos\n",
    "print(data_ar.isnull().sum())"
   ]
  },
  {
   "cell_type": "markdown",
   "metadata": {},
   "source": [
    "Conclusiones:\n",
    "\n",
    "Las columnas con muchos datos vacios: [l4], [l5], [l6]"
   ]
  },
  {
   "cell_type": "markdown",
   "metadata": {},
   "source": [
    "## 02.Limpieza"
   ]
  },
  {
   "cell_type": "markdown",
   "metadata": {},
   "source": [
    "Limpieza datos nulos"
   ]
  },
  {
   "cell_type": "markdown",
   "metadata": {},
   "source": [
    "Se elimina las columnas: [l4] [l5] [l6] porque tienen muchos datos faltantes."
   ]
  },
  {
   "cell_type": "code",
   "execution_count": 7,
   "metadata": {},
   "outputs": [],
   "source": [
    "data_ar= data_ar.drop(['l4','l5','l6'], axis=1)"
   ]
  },
  {
   "cell_type": "code",
   "execution_count": 8,
   "metadata": {},
   "outputs": [],
   "source": [
    "# Renombrar las columnas las columnas: l1, l2, l3\n",
    "data_ar = data_ar.rename(columns={\n",
    "    'l1': 'país',\n",
    "    'l2': 'provincia',\n",
    "    'l3': 'localidad'\n",
    "})"
   ]
  },
  {
   "cell_type": "code",
   "execution_count": 9,
   "metadata": {},
   "outputs": [
    {
     "name": "stdout",
     "output_type": "stream",
     "text": [
      "<class 'pandas.core.frame.DataFrame'>\n",
      "RangeIndex: 1000000 entries, 0 to 999999\n",
      "Data columns (total 22 columns):\n",
      " #   Column           Non-Null Count    Dtype  \n",
      "---  ------           --------------    -----  \n",
      " 0   id               1000000 non-null  object \n",
      " 1   ad_type          1000000 non-null  object \n",
      " 2   start_date       1000000 non-null  object \n",
      " 3   end_date         1000000 non-null  object \n",
      " 4   created_on       1000000 non-null  object \n",
      " 5   lat              882875 non-null   float64\n",
      " 6   lon              882632 non-null   float64\n",
      " 7   país             1000000 non-null  object \n",
      " 8   provincia        1000000 non-null  object \n",
      " 9   localidad        967428 non-null   object \n",
      " 10  rooms            678008 non-null   float64\n",
      " 11  bedrooms         618956 non-null   float64\n",
      " 12  bathrooms        768087 non-null   float64\n",
      " 13  surface_total    429133 non-null   float64\n",
      " 14  surface_covered  435069 non-null   float64\n",
      " 15  price            958382 non-null   float64\n",
      " 16  currency         956823 non-null   object \n",
      " 17  price_period     413540 non-null   object \n",
      " 18  title            999999 non-null   object \n",
      " 19  description      999958 non-null   object \n",
      " 20  property_type    1000000 non-null  object \n",
      " 21  operation_type   1000000 non-null  object \n",
      "dtypes: float64(8), object(14)\n",
      "memory usage: 167.8+ MB\n",
      "None\n"
     ]
    }
   ],
   "source": [
    "print(data_ar.info())"
   ]
  },
  {
   "cell_type": "markdown",
   "metadata": {},
   "source": [
    "Exploramos el país"
   ]
  },
  {
   "cell_type": "code",
   "execution_count": 10,
   "metadata": {},
   "outputs": [
    {
     "data": {
      "text/plain": [
       "array(['Argentina', 'Uruguay', 'Estados Unidos', 'Brasil'], dtype=object)"
      ]
     },
     "execution_count": 10,
     "metadata": {},
     "output_type": "execute_result"
    }
   ],
   "source": [
    "data_ar.país.unique()"
   ]
  },
  {
   "cell_type": "markdown",
   "metadata": {},
   "source": [
    "Siguiendo los objetivos planteados, se focaliza en el analisis de las propiedades de Argentina."
   ]
  },
  {
   "cell_type": "code",
   "execution_count": 11,
   "metadata": {},
   "outputs": [],
   "source": [
    "data_ar= data_ar[data_ar['país']=='Argentina']"
   ]
  },
  {
   "cell_type": "markdown",
   "metadata": {},
   "source": [
    "¿Qué provincias se encuentran?"
   ]
  },
  {
   "cell_type": "code",
   "execution_count": 12,
   "metadata": {},
   "outputs": [
    {
     "data": {
      "text/plain": [
       "país       provincia                   \n",
       "Argentina  Capital Federal                 255028\n",
       "           Bs.As. G.B.A. Zona Norte        167238\n",
       "           Bs.As. G.B.A. Zona Sur          144934\n",
       "           Buenos Aires Costa Atlántica    107156\n",
       "           Santa Fe                         81819\n",
       "           Bs.As. G.B.A. Zona Oeste         78281\n",
       "           Córdoba                          63973\n",
       "           Buenos Aires Interior            24314\n",
       "           Neuquén                          13825\n",
       "           Mendoza                           7956\n",
       "           Río Negro                         6533\n",
       "           Tucumán                           6264\n",
       "           Entre Ríos                        6216\n",
       "           Salta                             5072\n",
       "           Misiones                          4376\n",
       "           San Luis                          1971\n",
       "           La Pampa                          1601\n",
       "           Chubut                            1330\n",
       "           Chaco                             1297\n",
       "           Corrientes                        1204\n",
       "           San Juan                          1186\n",
       "           Jujuy                              571\n",
       "           Tierra Del Fuego                   439\n",
       "           Santa Cruz                         426\n",
       "           Catamarca                          391\n",
       "           La Rioja                           379\n",
       "           Santiago Del Estero                274\n",
       "           Formosa                             23\n",
       "dtype: int64"
      ]
     },
     "execution_count": 12,
     "metadata": {},
     "output_type": "execute_result"
    }
   ],
   "source": [
    "data_ar.groupby(['país','provincia']).size().sort_values(ascending=False)"
   ]
  },
  {
   "cell_type": "markdown",
   "metadata": {},
   "source": [
    "Esta distribución nos dice que hay muchisima información en CABA y GBA, pero después el número de registros cae en otras provincias. \n",
    "\n",
    "* Capital+ GBA= +600K propiedades\n",
    "* Formosa,Catamarca, La Rioja= menos de 500 registros"
   ]
  },
  {
   "cell_type": "markdown",
   "metadata": {},
   "source": [
    "Limpieza tipo de operación"
   ]
  },
  {
   "cell_type": "code",
   "execution_count": 13,
   "metadata": {},
   "outputs": [
    {
     "data": {
      "text/plain": [
       "operation_type\n",
       "Venta                746365\n",
       "Alquiler             198454\n",
       "Alquiler temporal     39258\n",
       "dtype: int64"
      ]
     },
     "execution_count": 13,
     "metadata": {},
     "output_type": "execute_result"
    }
   ],
   "source": [
    "#filtrar las propiedades según la operación\n",
    "data_ar.groupby(['operation_type']).size().sort_values(ascending=False)"
   ]
  },
  {
   "cell_type": "markdown",
   "metadata": {},
   "source": [
    "Insight: Al tener la gran mayoria de propiedades de venta, el modelo de predicción se focalizará en el tipo de operación: venta."
   ]
  },
  {
   "cell_type": "code",
   "execution_count": 14,
   "metadata": {},
   "outputs": [],
   "source": [
    "data_ar=data_ar[data_ar['operation_type']=='Venta']"
   ]
  },
  {
   "cell_type": "code",
   "execution_count": 15,
   "metadata": {},
   "outputs": [
    {
     "data": {
      "text/plain": [
       "array(['Venta'], dtype=object)"
      ]
     },
     "execution_count": 15,
     "metadata": {},
     "output_type": "execute_result"
    }
   ],
   "source": [
    "data_ar.operation_type.unique()"
   ]
  },
  {
   "cell_type": "markdown",
   "metadata": {},
   "source": [
    "## Validación"
   ]
  },
  {
   "cell_type": "markdown",
   "metadata": {},
   "source": [
    "Corroborramos cómo quedo el data_ar"
   ]
  },
  {
   "cell_type": "code",
   "execution_count": 16,
   "metadata": {},
   "outputs": [
    {
     "name": "stdout",
     "output_type": "stream",
     "text": [
      "<class 'pandas.core.frame.DataFrame'>\n",
      "Index: 746365 entries, 1 to 999989\n",
      "Data columns (total 22 columns):\n",
      " #   Column           Non-Null Count   Dtype  \n",
      "---  ------           --------------   -----  \n",
      " 0   id               746365 non-null  object \n",
      " 1   ad_type          746365 non-null  object \n",
      " 2   start_date       746365 non-null  object \n",
      " 3   end_date         746365 non-null  object \n",
      " 4   created_on       746365 non-null  object \n",
      " 5   lat              655479 non-null  float64\n",
      " 6   lon              655298 non-null  float64\n",
      " 7   país             746365 non-null  object \n",
      " 8   provincia        746365 non-null  object \n",
      " 9   localidad        726248 non-null  object \n",
      " 10  rooms            497539 non-null  float64\n",
      " 11  bedrooms         460054 non-null  float64\n",
      " 12  bathrooms        554025 non-null  float64\n",
      " 13  surface_total    302829 non-null  float64\n",
      " 14  surface_covered  298210 non-null  float64\n",
      " 15  price            716732 non-null  float64\n",
      " 16  currency         715672 non-null  object \n",
      " 17  price_period     282918 non-null  object \n",
      " 18  title            746364 non-null  object \n",
      " 19  description      746329 non-null  object \n",
      " 20  property_type    746365 non-null  object \n",
      " 21  operation_type   746365 non-null  object \n",
      "dtypes: float64(8), object(14)\n",
      "memory usage: 131.0+ MB\n"
     ]
    }
   ],
   "source": [
    "data_ar.info()"
   ]
  },
  {
   "cell_type": "code",
   "execution_count": 17,
   "metadata": {},
   "outputs": [
    {
     "data": {
      "text/plain": [
       "np.int64(0)"
      ]
     },
     "execution_count": 17,
     "metadata": {},
     "output_type": "execute_result"
    }
   ],
   "source": [
    "#filas duplicadas\n",
    "data_ar.duplicated().sum()"
   ]
  },
  {
   "cell_type": "code",
   "execution_count": 18,
   "metadata": {},
   "outputs": [
    {
     "name": "stdout",
     "output_type": "stream",
     "text": [
      "(746365, 22)\n"
     ]
    }
   ],
   "source": [
    "print(data_ar.shape)"
   ]
  },
  {
   "cell_type": "markdown",
   "metadata": {},
   "source": [
    "**Conclusiones finales**\n",
    "\n",
    "Recordardo que el objetivo es realizar un modelo predecitivo de precios de inmuebles en Argentina.\n",
    "\n",
    "Las variables útiles(features) son:\n",
    "\n",
    "* rooms\n",
    "* bedrooms\n",
    "* bathrooms\n",
    "* surface_total\n",
    "* surface_covered\n",
    "* property_type\n",
    "* Ubicación: país-provincia-localidad\n",
    "* lat y lon\n",
    "* currency\n",
    "\n",
    "La variable objetivo(target):\n",
    "\n",
    "* price"
   ]
  },
  {
   "cell_type": "code",
   "execution_count": 24,
   "metadata": {},
   "outputs": [
    {
     "name": "stdout",
     "output_type": "stream",
     "text": [
      "el archivo ya exisiste\n"
     ]
    }
   ],
   "source": [
    "import os\n",
    "\n",
    "# Verificar si el archivo ya existe\n",
    "file_path = '../data/---datos limpios/data_ar.csv'\n",
    "\n",
    "#guardar el csv\n",
    "if not os.path.exists(file_path):\n",
    "    data_ar.to_csv(file_path, index= False)\n",
    "    print('archivo guardado')\n",
    "else:\n",
    "    print('el archivo ya exisiste')"
   ]
  }
 ],
 "metadata": {
  "kernelspec": {
   "display_name": "Python 3",
   "language": "python",
   "name": "python3"
  },
  "language_info": {
   "codemirror_mode": {
    "name": "ipython",
    "version": 3
   },
   "file_extension": ".py",
   "mimetype": "text/x-python",
   "name": "python",
   "nbconvert_exporter": "python",
   "pygments_lexer": "ipython3",
   "version": "3.13.1"
  }
 },
 "nbformat": 4,
 "nbformat_minor": 2
}
