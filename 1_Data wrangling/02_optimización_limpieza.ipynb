{
 "cells": [
  {
   "cell_type": "markdown",
   "metadata": {},
   "source": [
    "# Optimización de limpieza"
   ]
  },
  {
   "cell_type": "markdown",
   "metadata": {},
   "source": [
    "## Cargar el data_ar"
   ]
  },
  {
   "cell_type": "code",
   "execution_count": null,
   "metadata": {},
   "outputs": [],
   "source": [
    "import pandas as pd"
   ]
  },
  {
   "cell_type": "code",
   "execution_count": 50,
   "metadata": {},
   "outputs": [],
   "source": [
    "data_ar=pd.read_csv('../data/---datos limpios/data_ar.csv')"
   ]
  },
  {
   "cell_type": "code",
   "execution_count": 51,
   "metadata": {},
   "outputs": [
    {
     "name": "stdout",
     "output_type": "stream",
     "text": [
      "<class 'pandas.core.frame.DataFrame'>\n",
      "RangeIndex: 746365 entries, 0 to 746364\n",
      "Data columns (total 22 columns):\n",
      " #   Column           Non-Null Count   Dtype  \n",
      "---  ------           --------------   -----  \n",
      " 0   id               746365 non-null  object \n",
      " 1   ad_type          746365 non-null  object \n",
      " 2   start_date       746365 non-null  object \n",
      " 3   end_date         746365 non-null  object \n",
      " 4   created_on       746365 non-null  object \n",
      " 5   lat              655479 non-null  float64\n",
      " 6   lon              655298 non-null  float64\n",
      " 7   país             746365 non-null  object \n",
      " 8   provincia        746365 non-null  object \n",
      " 9   localidad        726248 non-null  object \n",
      " 10  rooms            497539 non-null  float64\n",
      " 11  bedrooms         460054 non-null  float64\n",
      " 12  bathrooms        554025 non-null  float64\n",
      " 13  surface_total    302829 non-null  float64\n",
      " 14  surface_covered  298210 non-null  float64\n",
      " 15  price            716732 non-null  float64\n",
      " 16  currency         715672 non-null  object \n",
      " 17  price_period     282918 non-null  object \n",
      " 18  title            746364 non-null  object \n",
      " 19  description      746329 non-null  object \n",
      " 20  property_type    746365 non-null  object \n",
      " 21  operation_type   746365 non-null  object \n",
      "dtypes: float64(8), object(14)\n",
      "memory usage: 125.3+ MB\n"
     ]
    }
   ],
   "source": [
    "data_ar.info()"
   ]
  },
  {
   "cell_type": "code",
   "execution_count": 52,
   "metadata": {},
   "outputs": [
    {
     "data": {
      "text/plain": [
       "id                      0\n",
       "ad_type                 0\n",
       "start_date              0\n",
       "end_date                0\n",
       "created_on              0\n",
       "lat                 90886\n",
       "lon                 91067\n",
       "país                    0\n",
       "provincia               0\n",
       "localidad           20117\n",
       "rooms              248826\n",
       "bedrooms           286311\n",
       "bathrooms          192340\n",
       "surface_total      443536\n",
       "surface_covered    448155\n",
       "price               29633\n",
       "currency            30693\n",
       "price_period       463447\n",
       "title                   1\n",
       "description            36\n",
       "property_type           0\n",
       "operation_type          0\n",
       "dtype: int64"
      ]
     },
     "execution_count": 52,
     "metadata": {},
     "output_type": "execute_result"
    }
   ],
   "source": [
    "data_ar.isnull().sum()"
   ]
  },
  {
   "cell_type": "markdown",
   "metadata": {},
   "source": [
    "Son importantes los siguientes features, y tienen datos nulos:\n",
    "* lat y lon\n",
    "* rooms\n",
    "* bedrooms\n",
    "* bathrooms\n",
    "* surface_total\n",
    "* surface_covered\n",
    "* property_type\n",
    "* Ubicación: país-provincia-localidad\n",
    "* currency"
   ]
  },
  {
   "cell_type": "markdown",
   "metadata": {},
   "source": [
    "## Exploración: lat y lon"
   ]
  },
  {
   "cell_type": "code",
   "execution_count": 53,
   "metadata": {},
   "outputs": [
    {
     "data": {
      "text/plain": [
       "lat    float64\n",
       "lon    float64\n",
       "dtype: object"
      ]
     },
     "execution_count": 53,
     "metadata": {},
     "output_type": "execute_result"
    }
   ],
   "source": [
    "#corroborrar los tipos de dato de lat y lon\n",
    "data_ar[['lat','lon']].dtypes"
   ]
  },
  {
   "cell_type": "code",
   "execution_count": 54,
   "metadata": {},
   "outputs": [
    {
     "name": "stdout",
     "output_type": "stream",
     "text": [
      "lat: Total Filas = 746365, Valores Nulos = 90886, Porcentaje = 12.18%\n",
      "lon: Total Filas = 746365, Valores Nulos = 91067, Porcentaje = 12.20%\n"
     ]
    }
   ],
   "source": [
    "for col in ['lat', 'lon']:\n",
    "    print(f\"{col}: Total Filas = {len(data_ar)}, Valores Nulos = {data_ar[col].isnull().sum()}, Porcentaje = {data_ar[col].isnull().mean() * 100:.2f}%\")"
   ]
  },
  {
   "cell_type": "markdown",
   "metadata": {},
   "source": [
    "Conclusión: Se decidio no eliminar los datos nulos de [lat] [lon] ya que perderiamos más del 11% de los datos."
   ]
  },
  {
   "cell_type": "code",
   "execution_count": 55,
   "metadata": {},
   "outputs": [
    {
     "data": {
      "text/html": [
       "<div>\n",
       "<style scoped>\n",
       "    .dataframe tbody tr th:only-of-type {\n",
       "        vertical-align: middle;\n",
       "    }\n",
       "\n",
       "    .dataframe tbody tr th {\n",
       "        vertical-align: top;\n",
       "    }\n",
       "\n",
       "    .dataframe thead th {\n",
       "        text-align: right;\n",
       "    }\n",
       "</style>\n",
       "<table border=\"1\" class=\"dataframe\">\n",
       "  <thead>\n",
       "    <tr style=\"text-align: right;\">\n",
       "      <th></th>\n",
       "      <th>lat</th>\n",
       "      <th>lon</th>\n",
       "    </tr>\n",
       "  </thead>\n",
       "  <tbody>\n",
       "    <tr>\n",
       "      <th>count</th>\n",
       "      <td>655479.000000</td>\n",
       "      <td>655298.000000</td>\n",
       "    </tr>\n",
       "    <tr>\n",
       "      <th>mean</th>\n",
       "      <td>-34.639429</td>\n",
       "      <td>-59.378255</td>\n",
       "    </tr>\n",
       "    <tr>\n",
       "      <th>std</th>\n",
       "      <td>2.212407</td>\n",
       "      <td>2.593049</td>\n",
       "    </tr>\n",
       "    <tr>\n",
       "      <th>min</th>\n",
       "      <td>-54.841256</td>\n",
       "      <td>-122.538399</td>\n",
       "    </tr>\n",
       "    <tr>\n",
       "      <th>25%</th>\n",
       "      <td>-34.771457</td>\n",
       "      <td>-58.810673</td>\n",
       "    </tr>\n",
       "    <tr>\n",
       "      <th>50%</th>\n",
       "      <td>-34.603859</td>\n",
       "      <td>-58.479369</td>\n",
       "    </tr>\n",
       "    <tr>\n",
       "      <th>75%</th>\n",
       "      <td>-34.435198</td>\n",
       "      <td>-58.387972</td>\n",
       "    </tr>\n",
       "    <tr>\n",
       "      <th>max</th>\n",
       "      <td>49.633731</td>\n",
       "      <td>8.386075</td>\n",
       "    </tr>\n",
       "  </tbody>\n",
       "</table>\n",
       "</div>"
      ],
      "text/plain": [
       "                 lat            lon\n",
       "count  655479.000000  655298.000000\n",
       "mean      -34.639429     -59.378255\n",
       "std         2.212407       2.593049\n",
       "min       -54.841256    -122.538399\n",
       "25%       -34.771457     -58.810673\n",
       "50%       -34.603859     -58.479369\n",
       "75%       -34.435198     -58.387972\n",
       "max        49.633731       8.386075"
      ]
     },
     "execution_count": 55,
     "metadata": {},
     "output_type": "execute_result"
    }
   ],
   "source": [
    "#ver el resumen estadistico de lat y lon\n",
    "data_ar[['lat','lon']].describe()"
   ]
  },
  {
   "cell_type": "markdown",
   "metadata": {},
   "source": [
    "Insight: Podemos ver que tambien hay outliers\n",
    "\n",
    " Los rangos geográficos aproximados de latitud (lat) y longitud (lon):\n",
    "\n",
    "\n",
    "| Región                      | Latitud (lat)       | Longitud (lon)      |\n",
    "|----------------------------|---------------------|---------------------|\n",
    "| Argentina entera         | -55 a -21.5           | -73.5 a -53.5           |\n",
    "| Provincia de Buenos Aires | aprox -41.5 a -33.5     | -64.5 a -56.5           |\n",
    "| CABA y GBA (AMBA)         | aprox -35.1 a -34.3   | -58.8 a -58.2       |\n",
    "\n",
    "Entonces:\n",
    "\n",
    "Se ve una latitud como 49.6 Está por el Europa(Canada)\n",
    "\n",
    "Una longitud como 8.3 está en Europa (Alemania).\n",
    "\n",
    "Y -122 está en el Pacífico (California, USA).\n",
    "\n"
   ]
  },
  {
   "cell_type": "code",
   "execution_count": 56,
   "metadata": {},
   "outputs": [
    {
     "data": {
      "image/png": "[encoded data removed]",
      "text/plain": [
       "<Figure size 640x480 with 1 Axes>"
      ]
     },
     "metadata": {},
     "output_type": "display_data"
    },
    {
     "data": {
      "image/png": "[encoded data removed]",
      "text/plain": [
       "<Figure size 640x480 with 1 Axes>"
      ]
     },
     "metadata": {},
     "output_type": "display_data"
    }
   ],
   "source": [
    "#visualización la distribución\n",
    "import seaborn as sns\n",
    "import matplotlib.pyplot as plt\n",
    "\n",
    "sns.boxplot(x=data_ar['lat']) \n",
    "plt.show()\n",
    "\n",
    "sns.boxplot(x=data_ar['lon']) \n",
    "plt.show()"
   ]
  },
  {
   "cell_type": "markdown",
   "metadata": {},
   "source": [
    "Con estos graficos podemos seguir confirmando que nos encontramos con valores outliers."
   ]
  },
  {
   "cell_type": "markdown",
   "metadata": {},
   "source": [
    "¿Cuantas propiedades estan fuera de Argentina?\n"
   ]
  },
  {
   "cell_type": "code",
   "execution_count": 57,
   "metadata": {},
   "outputs": [
    {
     "name": "stdout",
     "output_type": "stream",
     "text": [
      "Latitudes fuera de Argentina 90954\n",
      "Longitudes fuera de Argentina 91141\n"
     ]
    }
   ],
   "source": [
    "# Crear una copia del DataFrame original\n",
    "df_clean = data_ar.copy()\n",
    "\n",
    "#Rango de coordenadas válidas de Argentina\n",
    "lat_val = df_clean['lat'].between(-55, -21.5)\n",
    "lon_val = df_clean['lon'].between(-73.5, -53.5)\n",
    "\n",
    "#Filtramos propiedades que tienen la lat y lon fuera de Argentina\n",
    "lat_outliers= df_clean[~lat_val]\n",
    "lon_outliers= df_clean[~lon_val]\n",
    "\n",
    "#cantidad de outliers\n",
    "print('Latitudes fuera de Argentina', len(lat_outliers))\n",
    "print('Longitudes fuera de Argentina',len(lon_outliers))\n",
    "                                  "
   ]
  },
  {
   "cell_type": "markdown",
   "metadata": {},
   "source": [
    "Una estraegia para poder imputar lat y lon es usar localidad/barrio. Es decir, si a una propiedad le falta la coordenada, pero tengo el barrio, le pongo la latitud y longitud promedio de ese barrio. "
   ]
  },
  {
   "cell_type": "code",
   "execution_count": 58,
   "metadata": {},
   "outputs": [
    {
     "data": {
      "text/plain": [
       "localidad    20117\n",
       "dtype: int64"
      ]
     },
     "execution_count": 58,
     "metadata": {},
     "output_type": "execute_result"
    }
   ],
   "source": [
    "df_clean[['localidad']].isnull().sum()"
   ]
  },
  {
   "cell_type": "markdown",
   "metadata": {},
   "source": [
    "La localidad tambien tiene datos faltantes, por lo tanto si queremos imputar lat y lon basandonos en él, se va a encontrar con datos nulos. "
   ]
  },
  {
   "cell_type": "code",
   "execution_count": 59,
   "metadata": {},
   "outputs": [
    {
     "data": {
      "text/html": [
       "<div>\n",
       "<style scoped>\n",
       "    .dataframe tbody tr th:only-of-type {\n",
       "        vertical-align: middle;\n",
       "    }\n",
       "\n",
       "    .dataframe tbody tr th {\n",
       "        vertical-align: top;\n",
       "    }\n",
       "\n",
       "    .dataframe thead th {\n",
       "        text-align: right;\n",
       "    }\n",
       "</style>\n",
       "<table border=\"1\" class=\"dataframe\">\n",
       "  <thead>\n",
       "    <tr style=\"text-align: right;\">\n",
       "      <th></th>\n",
       "      <th>lat</th>\n",
       "      <th>lon</th>\n",
       "      <th>localidad</th>\n",
       "    </tr>\n",
       "  </thead>\n",
       "  <tbody>\n",
       "    <tr>\n",
       "      <th>6</th>\n",
       "      <td>NaN</td>\n",
       "      <td>NaN</td>\n",
       "      <td>Alvear</td>\n",
       "    </tr>\n",
       "    <tr>\n",
       "      <th>13</th>\n",
       "      <td>NaN</td>\n",
       "      <td>NaN</td>\n",
       "      <td>General Pueyrredón</td>\n",
       "    </tr>\n",
       "    <tr>\n",
       "      <th>15</th>\n",
       "      <td>NaN</td>\n",
       "      <td>NaN</td>\n",
       "      <td>Santa Clara del Mar</td>\n",
       "    </tr>\n",
       "    <tr>\n",
       "      <th>26</th>\n",
       "      <td>NaN</td>\n",
       "      <td>NaN</td>\n",
       "      <td>Pilar</td>\n",
       "    </tr>\n",
       "    <tr>\n",
       "      <th>27</th>\n",
       "      <td>NaN</td>\n",
       "      <td>NaN</td>\n",
       "      <td>Tigre</td>\n",
       "    </tr>\n",
       "    <tr>\n",
       "      <th>45</th>\n",
       "      <td>NaN</td>\n",
       "      <td>NaN</td>\n",
       "      <td>Palermo</td>\n",
       "    </tr>\n",
       "    <tr>\n",
       "      <th>85</th>\n",
       "      <td>NaN</td>\n",
       "      <td>NaN</td>\n",
       "      <td>Córdoba</td>\n",
       "    </tr>\n",
       "    <tr>\n",
       "      <th>86</th>\n",
       "      <td>NaN</td>\n",
       "      <td>NaN</td>\n",
       "      <td>Mar del Plata</td>\n",
       "    </tr>\n",
       "    <tr>\n",
       "      <th>90</th>\n",
       "      <td>NaN</td>\n",
       "      <td>NaN</td>\n",
       "      <td>Pinamar</td>\n",
       "    </tr>\n",
       "    <tr>\n",
       "      <th>91</th>\n",
       "      <td>NaN</td>\n",
       "      <td>NaN</td>\n",
       "      <td>Pinamar</td>\n",
       "    </tr>\n",
       "  </tbody>\n",
       "</table>\n",
       "</div>"
      ],
      "text/plain": [
       "    lat  lon            localidad\n",
       "6   NaN  NaN               Alvear\n",
       "13  NaN  NaN   General Pueyrredón\n",
       "15  NaN  NaN  Santa Clara del Mar\n",
       "26  NaN  NaN                Pilar\n",
       "27  NaN  NaN                Tigre\n",
       "45  NaN  NaN              Palermo\n",
       "85  NaN  NaN              Córdoba\n",
       "86  NaN  NaN        Mar del Plata\n",
       "90  NaN  NaN              Pinamar\n",
       "91  NaN  NaN              Pinamar"
      ]
     },
     "execution_count": 59,
     "metadata": {},
     "output_type": "execute_result"
    }
   ],
   "source": [
    "#Unimos los datos con lat y lon raras y eliminamos los repetidos\n",
    "outliers= pd.concat([lat_outliers, lon_outliers]).drop_duplicates()\n",
    "\n",
    "outliers[['lat','lon','localidad']].head(10)"
   ]
  },
  {
   "cell_type": "markdown",
   "metadata": {},
   "source": [
    "Resumen:\n",
    "\n",
    "Tenemos lat y lon:\n",
    "Con valores nulos. Tambien con valores extremos(ouliers)que incluso no pertenecen a Argentina.\n",
    "\n",
    "Queremos usar localidad para corregir esos casos, pero nos damos cuenta que tambien tiene valores nulos.\n",
    "\n",
    "Estrategia:\n",
    "Primero vamos a trabajar los outliers de la lat y lon que son incorrectos, ya que para sacar la mediana por barrio,nos va a distorcionar."
   ]
  },
  {
   "cell_type": "markdown",
   "metadata": {},
   "source": [
    "## Tratamiento outliers localidad"
   ]
  },
  {
   "cell_type": "code",
   "execution_count": 60,
   "metadata": {},
   "outputs": [],
   "source": [
    "import numpy as np\n",
    "# Reemplazamos las cordenadas que estan mal por NaN\n",
    "df_clean.loc[~lat_val, 'lat'] = np.nan\n",
    "df_clean.loc[~lon_val, 'lon'] = np.nan"
   ]
  },
  {
   "cell_type": "code",
   "execution_count": 61,
   "metadata": {},
   "outputs": [
    {
     "name": "stdout",
     "output_type": "stream",
     "text": [
      "                      lat        lon\n",
      "localidad                           \n",
      "9 de Julio     -28.779775 -61.666509\n",
      "Abasto         -34.603890 -58.410998\n",
      "Acceso Norte          NaN        NaN\n",
      "Acebal         -33.242155 -60.834136\n",
      "Achiras        -32.590662 -65.006580\n",
      "...                   ...        ...\n",
      "Zárate         -34.110579 -59.055408\n",
      "orquincó       -41.702893 -70.049797\n",
      "Álvarez        -33.141158 -60.715830\n",
      "Ámbul          -31.516554 -65.064989\n",
      "Ángel Gallardo -31.556414 -60.676246\n",
      "\n",
      "[1271 rows x 2 columns]\n"
     ]
    }
   ],
   "source": [
    "#calculamos las medianas por barrio\n",
    "medianas_loc= df_clean.groupby('localidad')[['lat','lon']].median()\n",
    "\n",
    "print(medianas_loc)"
   ]
  },
  {
   "cell_type": "markdown",
   "metadata": {},
   "source": [
    "Se imputa con mediana de los barrios calculados los coordenadas malas(que ahora son NaN)"
   ]
  },
  {
   "cell_type": "code",
   "execution_count": 62,
   "metadata": {},
   "outputs": [],
   "source": [
    "# 1.Se establece el indice en 'localidad' para que sea más fácil cruzar con medianas_loc\n",
    "df_clean.set_index(\"localidad\", inplace=True)\n",
    "\n",
    "# 2. Rellena los NaN de lat y lon con la mediana del barrio (según el índice actual)\n",
    "df_clean[[\"lat\", \"lon\"]] = df_clean[[\"lat\", \"lon\"]].fillna(medianas_loc)"
   ]
  },
  {
   "cell_type": "code",
   "execution_count": 63,
   "metadata": {},
   "outputs": [],
   "source": [
    "# 3. Devuelve 'localidad' a una columna normal (ya no como índice)\n",
    "df_clean.reset_index(inplace=True)"
   ]
  },
  {
   "cell_type": "code",
   "execution_count": 64,
   "metadata": {},
   "outputs": [
    {
     "data": {
      "text/plain": [
       "localidad           20117\n",
       "id                      0\n",
       "ad_type                 0\n",
       "start_date              0\n",
       "end_date                0\n",
       "created_on              0\n",
       "lat                  8386\n",
       "lon                  8407\n",
       "país                    0\n",
       "provincia               0\n",
       "rooms              248826\n",
       "bedrooms           286311\n",
       "bathrooms          192340\n",
       "surface_total      443536\n",
       "surface_covered    448155\n",
       "price               29633\n",
       "currency            30693\n",
       "price_period       463447\n",
       "title                   1\n",
       "description            36\n",
       "property_type           0\n",
       "operation_type          0\n",
       "dtype: int64"
      ]
     },
     "execution_count": 64,
     "metadata": {},
     "output_type": "execute_result"
    }
   ],
   "source": [
    "df_clean.isnull().sum()"
   ]
  },
  {
   "cell_type": "code",
   "execution_count": 65,
   "metadata": {},
   "outputs": [
    {
     "name": "stdout",
     "output_type": "stream",
     "text": [
      "<class 'pandas.core.frame.DataFrame'>\n",
      "RangeIndex: 746365 entries, 0 to 746364\n",
      "Data columns (total 22 columns):\n",
      " #   Column           Non-Null Count   Dtype  \n",
      "---  ------           --------------   -----  \n",
      " 0   localidad        726248 non-null  object \n",
      " 1   id               746365 non-null  object \n",
      " 2   ad_type          746365 non-null  object \n",
      " 3   start_date       746365 non-null  object \n",
      " 4   end_date         746365 non-null  object \n",
      " 5   created_on       746365 non-null  object \n",
      " 6   lat              737979 non-null  float64\n",
      " 7   lon              737958 non-null  float64\n",
      " 8   país             746365 non-null  object \n",
      " 9   provincia        746365 non-null  object \n",
      " 10  rooms            497539 non-null  float64\n",
      " 11  bedrooms         460054 non-null  float64\n",
      " 12  bathrooms        554025 non-null  float64\n",
      " 13  surface_total    302829 non-null  float64\n",
      " 14  surface_covered  298210 non-null  float64\n",
      " 15  price            716732 non-null  float64\n",
      " 16  currency         715672 non-null  object \n",
      " 17  price_period     282918 non-null  object \n",
      " 18  title            746364 non-null  object \n",
      " 19  description      746329 non-null  object \n",
      " 20  property_type    746365 non-null  object \n",
      " 21  operation_type   746365 non-null  object \n",
      "dtypes: float64(8), object(14)\n",
      "memory usage: 125.3+ MB\n"
     ]
    }
   ],
   "source": [
    "df_clean.info()"
   ]
  },
  {
   "cell_type": "markdown",
   "metadata": {},
   "source": [
    "Sintesis: Se corrige las coordenadas incorrectas(outliers) usando la ubicación típica del barrio. "
   ]
  },
  {
   "cell_type": "markdown",
   "metadata": {},
   "source": [
    "Validación"
   ]
  },
  {
   "cell_type": "code",
   "execution_count": 66,
   "metadata": {},
   "outputs": [
    {
     "name": "stdout",
     "output_type": "stream",
     "text": [
      "Latitudes inválidas después de corregir: 8386\n",
      "Longitudes inválidas después de corregir: 8407\n"
     ]
    }
   ],
   "source": [
    "# Verificamos nuevamente si hay coordenadas fuera de Argentina\n",
    "lat_val = df_clean['lat'].between(-55, -21.5)\n",
    "lon_val = df_clean['lon'].between(-73.5, -53.5)\n",
    "\n",
    "print(\"Latitudes inválidas después de corregir:\", df_clean[~lat_val].shape[0])\n",
    "print(\"Longitudes inválidas después de corregir:\", df_clean[~lon_val].shape[0])\n"
   ]
  },
  {
   "cell_type": "markdown",
   "metadata": {},
   "source": [
    "Esas filas quedaron con NaN en lat o lon, incluso después de la imputación. Esas filas no se pueden imputar con la mediana del barrio, porque no sabemos a qué barrio pertenecen, por eso de eliminará.\n",
    "\n",
    "\n",
    "\n"
   ]
  },
  {
   "cell_type": "code",
   "execution_count": 70,
   "metadata": {},
   "outputs": [],
   "source": [
    "# Filtrar registros donde las tres columnas son nulas\n",
    "filtro = df_clean['lat'].isna() & df_clean['lon'].isna() & df_clean['localidad'].isna()\n",
    "\n",
    "# Eliminar esos registros del DataFrame\n",
    "df_clean = df_clean[~filtro]\n"
   ]
  },
  {
   "cell_type": "markdown",
   "metadata": {},
   "source": [
    "## Tratamiento de datos Nan Localidad"
   ]
  },
  {
   "cell_type": "code",
   "execution_count": 71,
   "metadata": {},
   "outputs": [
    {
     "data": {
      "text/plain": [
       "localidad     12297\n",
       "id                0\n",
       "ad_type           0\n",
       "start_date        0\n",
       "end_date          0\n",
       "created_on        0\n",
       "lat             566\n",
       "lon             587\n",
       "país              0\n",
       "provincia         0\n",
       "dtype: int64"
      ]
     },
     "execution_count": 71,
     "metadata": {},
     "output_type": "execute_result"
    }
   ],
   "source": [
    "df_clean.isnull().sum().head(10)"
   ]
  },
  {
   "cell_type": "markdown",
   "metadata": {},
   "source": [
    "¿Cuales son localidades nan con lat y lon presentes?"
   ]
  },
  {
   "cell_type": "code",
   "execution_count": 72,
   "metadata": {},
   "outputs": [
    {
     "name": "stdout",
     "output_type": "stream",
     "text": [
      "Localidad nula + lat y lon presentes: lat    12297\n",
      "lon    12276\n",
      "dtype: int64\n"
     ]
    }
   ],
   "source": [
    "filtro_localidad_nula = df_clean['localidad'].isna()\n",
    "print(\"Localidad nula + lat y lon presentes:\" , df_clean[filtro_localidad_nula][['lat', 'lon']].notna().sum())"
   ]
  },
  {
   "cell_type": "markdown",
   "metadata": {},
   "source": [
    "De las 12.297 filas con localidad nula, la gran mayoría sí tienen lat y lon presentes:\n",
    "\n",
    "lat: 12.297 no nulas\n",
    "\n",
    "lon: 12.276 no nulas\n",
    "\n",
    "Eso significa que esas coordenadas podrían ayudar a recuperar la localidad usando un proceso de geocodificación inversa."
   ]
  },
  {
   "cell_type": "markdown",
   "metadata": {},
   "source": [
    "## Geodificación inversa"
   ]
  },
  {
   "cell_type": "markdown",
   "metadata": {},
   "source": [
    "El objetivo es rellenar las localidad faltantes con Geopy y Nominatim."
   ]
  },
  {
   "cell_type": "code",
   "execution_count": 73,
   "metadata": {},
   "outputs": [],
   "source": [
    "from geopy.geocoders import Nominatim\n",
    "from time import sleep\n",
    "import pandas as pd"
   ]
  },
  {
   "cell_type": "code",
   "execution_count": 74,
   "metadata": {},
   "outputs": [],
   "source": [
    "# Inicializar Nominatim\n",
    "geolocator = Nominatim(user_agent=\"mi-proyecto-inmobiliario\")\n",
    "\n",
    "# Función que intenta obtener la localidad\n",
    "def obtener_localidad(lat, lon):\n",
    "    try:\n",
    "        location = geolocator.reverse((lat, lon), language='es')\n",
    "        if location and 'address' in location.raw:\n",
    "            return (\n",
    "                location.raw['address'].get('city') or\n",
    "                location.raw['address'].get('town') or\n",
    "                location.raw['address'].get('village')\n",
    "            )\n",
    "    except:\n",
    "        return None\n",
    "\n",
    "# Crear una copia \n",
    "df_temp = df_clean.copy()\n"
   ]
  },
  {
   "cell_type": "markdown",
   "metadata": {},
   "source": [
    "Antes de realizar la consulta masiva en la API, quiero verificar si la API devuelve localidades correctas, seleccionamos una muestra pequeña de coordenadas."
   ]
  },
  {
   "cell_type": "code",
   "execution_count": 75,
   "metadata": {},
   "outputs": [
    {
     "name": "stderr",
     "output_type": "stream",
     "text": [
      "C:\\Users\\NB USER\\AppData\\Local\\Temp\\ipykernel_1432\\4207051210.py:1: UserWarning: Boolean Series key will be reindexed to match DataFrame index.\n",
      "  coordenadas_unicas = df_temp[filtro][['lat', 'lon']].drop_duplicates()\n"
     ]
    },
    {
     "name": "stdout",
     "output_type": "stream",
     "text": [
      "Empty DataFrame\n",
      "Columns: [lat, lon]\n",
      "Index: []\n"
     ]
    }
   ],
   "source": [
    "coordenadas_unicas = df_temp[filtro][['lat', 'lon']].drop_duplicates()\n",
    "print(coordenadas_unicas.head())"
   ]
  },
  {
   "cell_type": "code",
   "execution_count": 76,
   "metadata": {},
   "outputs": [
    {
     "ename": "ValueError",
     "evalue": "a must be greater than 0 unless no samples are taken",
     "output_type": "error",
     "traceback": [
      "\u001b[31m---------------------------------------------------------------------------\u001b[39m",
      "\u001b[31mValueError\u001b[39m                                Traceback (most recent call last)",
      "\u001b[36mCell\u001b[39m\u001b[36m \u001b[39m\u001b[32mIn[76]\u001b[39m\u001b[32m, line 2\u001b[39m\n\u001b[32m      1\u001b[39m \u001b[38;5;66;03m# Tomar una muestra aleatoria de 20 coordenadas únicas\u001b[39;00m\n\u001b[32m----> \u001b[39m\u001b[32m2\u001b[39m muestra_coords = \u001b[43mcoordenadas_unicas\u001b[49m\u001b[43m.\u001b[49m\u001b[43msample\u001b[49m\u001b[43m(\u001b[49m\u001b[43mn\u001b[49m\u001b[43m=\u001b[49m\u001b[32;43m20\u001b[39;49m\u001b[43m,\u001b[49m\u001b[43m \u001b[49m\u001b[43mrandom_state\u001b[49m\u001b[43m=\u001b[49m\u001b[32;43m42\u001b[39;49m\u001b[43m)\u001b[49m\n",
      "\u001b[36mFile \u001b[39m\u001b[32mc:\\Users\\NB USER\\AppData\\Local\\Programs\\Python\\Python313\\Lib\\site-packages\\pandas\\core\\generic.py:6118\u001b[39m, in \u001b[36mNDFrame.sample\u001b[39m\u001b[34m(self, n, frac, replace, weights, random_state, axis, ignore_index)\u001b[39m\n\u001b[32m   6115\u001b[39m \u001b[38;5;28;01mif\u001b[39;00m weights \u001b[38;5;129;01mis\u001b[39;00m \u001b[38;5;129;01mnot\u001b[39;00m \u001b[38;5;28;01mNone\u001b[39;00m:\n\u001b[32m   6116\u001b[39m     weights = sample.preprocess_weights(\u001b[38;5;28mself\u001b[39m, weights, axis)\n\u001b[32m-> \u001b[39m\u001b[32m6118\u001b[39m sampled_indices = \u001b[43msample\u001b[49m\u001b[43m.\u001b[49m\u001b[43msample\u001b[49m\u001b[43m(\u001b[49m\u001b[43mobj_len\u001b[49m\u001b[43m,\u001b[49m\u001b[43m \u001b[49m\u001b[43msize\u001b[49m\u001b[43m,\u001b[49m\u001b[43m \u001b[49m\u001b[43mreplace\u001b[49m\u001b[43m,\u001b[49m\u001b[43m \u001b[49m\u001b[43mweights\u001b[49m\u001b[43m,\u001b[49m\u001b[43m \u001b[49m\u001b[43mrs\u001b[49m\u001b[43m)\u001b[49m\n\u001b[32m   6119\u001b[39m result = \u001b[38;5;28mself\u001b[39m.take(sampled_indices, axis=axis)\n\u001b[32m   6121\u001b[39m \u001b[38;5;28;01mif\u001b[39;00m ignore_index:\n",
      "\u001b[36mFile \u001b[39m\u001b[32mc:\\Users\\NB USER\\AppData\\Local\\Programs\\Python\\Python313\\Lib\\site-packages\\pandas\\core\\sample.py:152\u001b[39m, in \u001b[36msample\u001b[39m\u001b[34m(obj_len, size, replace, weights, random_state)\u001b[39m\n\u001b[32m    149\u001b[39m     \u001b[38;5;28;01melse\u001b[39;00m:\n\u001b[32m    150\u001b[39m         \u001b[38;5;28;01mraise\u001b[39;00m \u001b[38;5;167;01mValueError\u001b[39;00m(\u001b[33m\"\u001b[39m\u001b[33mInvalid weights: weights sum to zero\u001b[39m\u001b[33m\"\u001b[39m)\n\u001b[32m--> \u001b[39m\u001b[32m152\u001b[39m \u001b[38;5;28;01mreturn\u001b[39;00m \u001b[43mrandom_state\u001b[49m\u001b[43m.\u001b[49m\u001b[43mchoice\u001b[49m\u001b[43m(\u001b[49m\u001b[43mobj_len\u001b[49m\u001b[43m,\u001b[49m\u001b[43m \u001b[49m\u001b[43msize\u001b[49m\u001b[43m=\u001b[49m\u001b[43msize\u001b[49m\u001b[43m,\u001b[49m\u001b[43m \u001b[49m\u001b[43mreplace\u001b[49m\u001b[43m=\u001b[49m\u001b[43mreplace\u001b[49m\u001b[43m,\u001b[49m\u001b[43m \u001b[49m\u001b[43mp\u001b[49m\u001b[43m=\u001b[49m\u001b[43mweights\u001b[49m\u001b[43m)\u001b[49m.astype(\n\u001b[32m    153\u001b[39m     np.intp, copy=\u001b[38;5;28;01mFalse\u001b[39;00m\n\u001b[32m    154\u001b[39m )\n",
      "\u001b[36mFile \u001b[39m\u001b[32mnumpy\\\\random\\\\mtrand.pyx:964\u001b[39m, in \u001b[36mnumpy.random.mtrand.RandomState.choice\u001b[39m\u001b[34m()\u001b[39m\n",
      "\u001b[31mValueError\u001b[39m: a must be greater than 0 unless no samples are taken"
     ]
    }
   ],
   "source": [
    "# Tomar una muestra aleatoria de 20 coordenadas únicas\n",
    "muestra_coords = coordenadas_unicas.sample(n=20, random_state=42)"
   ]
  },
  {
   "cell_type": "code",
   "execution_count": null,
   "metadata": {},
   "outputs": [
    {
     "name": "stdout",
     "output_type": "stream",
     "text": [
      "-32.8756302, -68.7743767 => None\n",
      "-32.86902712, -68.82555197 => Ciudad de Mendoza\n",
      "-27.58162, -56.68231 => Municipio de Ituzaingó\n",
      "-31.6549258, -60.7151476 => Santa Fe\n",
      "-32.89971825, -68.82129777 => None\n",
      "-31.5837620757, -64.3430353 => Villa Parque Santa Ana\n",
      "-38.9824075394, -68.0716823799 => Neuquén\n",
      "-32.913791, -68.820948 => None\n",
      "-32.92921829, -60.81238937 => Funes\n",
      "-40.818813, -65.104852 => Las Grutas\n",
      "-31.635371, -60.7102089 => Santa Fe\n",
      "-31.3997158, -64.199304 => Córdoba\n",
      "-34.8911743894, -58.0398488045 => Manuel B. Gonnet\n",
      "-38.942396687, -67.9694740074 => Cipolletti\n",
      "-38.9237222, -68.055224 => Neuquén\n",
      "-38.956423155, -68.0256842045 => Neuquén\n",
      "-32.9988806, -58.5285025 => Límite de Ejido de Municipio de Gualeguaychú\n",
      "-32.5066046, -64.9839084 => Cortaderas\n",
      "-38.9423504, -68.0553348 => Neuquén\n",
      "-38.9476149684, -68.047869878 => Neuquén\n"
     ]
    }
   ],
   "source": [
    "print(\"\\nResultados de geocodificación inversa:\")\n",
    "\n",
    "for idx, row in muestra_coords.iterrows():\n",
    "    lat = row['lat']\n",
    "    lon = row['lon']\n",
    "    localidad = obtener_localidad(lat, lon)  # función de consulta\n",
    "    print(f\"{lat}, {lon} => {localidad}\")"
   ]
  },
  {
   "cell_type": "markdown",
   "metadata": {},
   "source": [
    "Verificación si una coordenada especifica tenía la localidad nula"
   ]
  },
  {
   "cell_type": "code",
   "execution_count": null,
   "metadata": {},
   "outputs": [
    {
     "name": "stdout",
     "output_type": "stream",
     "text": [
      "La localidad para las coordenadas -32.86902712, -68.82555197 estaba nula.\n"
     ]
    }
   ],
   "source": [
    "# Coordenadas que estás verificando\n",
    "lat = -32.86902712\n",
    "lon = -68.82555197\n",
    "\n",
    "# Buscar el índice de la fila que tiene esas coordenadas\n",
    "indice_fila = df_temp[(df_temp['lat'] == lat) & (df_temp['lon'] == lon)].index\n",
    "\n",
    "# Verificar si la localidad estaba nula\n",
    "if df_temp.loc[indice_fila, 'localidad'].isnull().any():\n",
    "    print(f\"La localidad para las coordenadas {lat}, {lon} estaba nula.\")\n",
    "else:\n",
    "    print(f\"La localidad para las coordenadas {lat}, {lon} ya estaba definida.\")\n",
    "\n"
   ]
  },
  {
   "cell_type": "code",
   "execution_count": null,
   "metadata": {},
   "outputs": [
    {
     "name": "stderr",
     "output_type": "stream",
     "text": [
      "100%|██████████| 12276/12276 [17:22:25<00:00,  5.09s/it]       \n"
     ]
    }
   ],
   "source": [
    "from tqdm import tqdm \n",
    "# Aplicar la función fila por fila\n",
    "for idx in tqdm(df_temp[filtro].index):  # tqdm agrega una barra de progreso\n",
    "    lat = df_temp.at[idx, 'lat']\n",
    "    lon = df_temp.at[idx, 'lon']\n",
    "    localidad = obtener_localidad(lat, lon)\n",
    "    df_temp.at[idx, 'localidad'] = localidad\n",
    "    sleep(1)  # para no saturar la API"
   ]
  },
  {
   "cell_type": "markdown",
   "metadata": {},
   "source": [
    "Verificación "
   ]
  },
  {
   "cell_type": "code",
   "execution_count": null,
   "metadata": {},
   "outputs": [
    {
     "data": {
      "text/plain": [
       "np.int64(1066)"
      ]
     },
     "execution_count": 41,
     "metadata": {},
     "output_type": "execute_result"
    }
   ],
   "source": [
    "df_temp['localidad'].isna().sum()\n"
   ]
  },
  {
   "cell_type": "markdown",
   "metadata": {},
   "source": [
    "Este número bajó respecto al original (12.297), entonces la API llenó gran parte de los valores."
   ]
  },
  {
   "cell_type": "code",
   "execution_count": null,
   "metadata": {},
   "outputs": [
    {
     "data": {
      "text/html": [
       "<div>\n",
       "<style scoped>\n",
       "    .dataframe tbody tr th:only-of-type {\n",
       "        vertical-align: middle;\n",
       "    }\n",
       "\n",
       "    .dataframe tbody tr th {\n",
       "        vertical-align: top;\n",
       "    }\n",
       "\n",
       "    .dataframe thead th {\n",
       "        text-align: right;\n",
       "    }\n",
       "</style>\n",
       "<table border=\"1\" class=\"dataframe\">\n",
       "  <thead>\n",
       "    <tr style=\"text-align: right;\">\n",
       "      <th></th>\n",
       "      <th>provincia</th>\n",
       "      <th>localidad</th>\n",
       "      <th>lat</th>\n",
       "      <th>lon</th>\n",
       "    </tr>\n",
       "  </thead>\n",
       "  <tbody>\n",
       "    <tr>\n",
       "      <th>376346</th>\n",
       "      <td>Bs.As. G.B.A. Zona Norte</td>\n",
       "      <td>Pilar</td>\n",
       "      <td>-34.380712</td>\n",
       "      <td>-58.864379</td>\n",
       "    </tr>\n",
       "    <tr>\n",
       "      <th>742603</th>\n",
       "      <td>La Pampa</td>\n",
       "      <td>Santa Rosa</td>\n",
       "      <td>-36.629259</td>\n",
       "      <td>-64.280941</td>\n",
       "    </tr>\n",
       "    <tr>\n",
       "      <th>614024</th>\n",
       "      <td>Bs.As. G.B.A. Zona Sur</td>\n",
       "      <td>Lomas de Zamora</td>\n",
       "      <td>-34.733563</td>\n",
       "      <td>-58.418734</td>\n",
       "    </tr>\n",
       "    <tr>\n",
       "      <th>145235</th>\n",
       "      <td>Misiones</td>\n",
       "      <td>Garupá</td>\n",
       "      <td>-27.520470</td>\n",
       "      <td>-55.852861</td>\n",
       "    </tr>\n",
       "    <tr>\n",
       "      <th>710059</th>\n",
       "      <td>Bs.As. G.B.A. Zona Oeste</td>\n",
       "      <td>Moreno</td>\n",
       "      <td>-34.643827</td>\n",
       "      <td>-58.790727</td>\n",
       "    </tr>\n",
       "    <tr>\n",
       "      <th>420587</th>\n",
       "      <td>Buenos Aires Costa Atlántica</td>\n",
       "      <td>Mar del Plata</td>\n",
       "      <td>-38.010451</td>\n",
       "      <td>-57.540242</td>\n",
       "    </tr>\n",
       "    <tr>\n",
       "      <th>587532</th>\n",
       "      <td>Capital Federal</td>\n",
       "      <td>Centro / Microcentro</td>\n",
       "      <td>-34.605589</td>\n",
       "      <td>-58.376780</td>\n",
       "    </tr>\n",
       "    <tr>\n",
       "      <th>20416</th>\n",
       "      <td>Bs.As. G.B.A. Zona Sur</td>\n",
       "      <td>Avellaneda</td>\n",
       "      <td>-34.682773</td>\n",
       "      <td>-58.369272</td>\n",
       "    </tr>\n",
       "    <tr>\n",
       "      <th>673456</th>\n",
       "      <td>Bs.As. G.B.A. Zona Oeste</td>\n",
       "      <td>Ituzaingó</td>\n",
       "      <td>-34.642236</td>\n",
       "      <td>-58.677239</td>\n",
       "    </tr>\n",
       "    <tr>\n",
       "      <th>598987</th>\n",
       "      <td>Bs.As. G.B.A. Zona Sur</td>\n",
       "      <td>Lomas de Zamora</td>\n",
       "      <td>-34.788911</td>\n",
       "      <td>-58.419049</td>\n",
       "    </tr>\n",
       "  </tbody>\n",
       "</table>\n",
       "</div>"
      ],
      "text/plain": [
       "                           provincia             localidad        lat  \\\n",
       "376346      Bs.As. G.B.A. Zona Norte                 Pilar -34.380712   \n",
       "742603                      La Pampa            Santa Rosa -36.629259   \n",
       "614024        Bs.As. G.B.A. Zona Sur       Lomas de Zamora -34.733563   \n",
       "145235                      Misiones                Garupá -27.520470   \n",
       "710059      Bs.As. G.B.A. Zona Oeste                Moreno -34.643827   \n",
       "420587  Buenos Aires Costa Atlántica         Mar del Plata -38.010451   \n",
       "587532               Capital Federal  Centro / Microcentro -34.605589   \n",
       "20416         Bs.As. G.B.A. Zona Sur            Avellaneda -34.682773   \n",
       "673456      Bs.As. G.B.A. Zona Oeste             Ituzaingó -34.642236   \n",
       "598987        Bs.As. G.B.A. Zona Sur       Lomas de Zamora -34.788911   \n",
       "\n",
       "              lon  \n",
       "376346 -58.864379  \n",
       "742603 -64.280941  \n",
       "614024 -58.418734  \n",
       "145235 -55.852861  \n",
       "710059 -58.790727  \n",
       "420587 -57.540242  \n",
       "587532 -58.376780  \n",
       "20416  -58.369272  \n",
       "673456 -58.677239  \n",
       "598987 -58.419049  "
      ]
     },
     "execution_count": 45,
     "metadata": {},
     "output_type": "execute_result"
    }
   ],
   "source": [
    "df_temp[['provincia','localidad','lat','lon']].sample(10)"
   ]
  },
  {
   "cell_type": "code",
   "execution_count": null,
   "metadata": {},
   "outputs": [
    {
     "name": "stdout",
     "output_type": "stream",
     "text": [
      "archivo guardado\n"
     ]
    }
   ],
   "source": [
    "import os\n",
    "\n",
    "# Verificar si el archivo ya existe\n",
    "file_path = '../data/---datos limpios/data_completa.csv'\n",
    "\n",
    "#guardar el csv\n",
    "if not os.path.exists(file_path):\n",
    "    df_temp.to_csv(file_path, index= False)\n",
    "    print('archivo guardado')\n",
    "else:\n",
    "    print('el archivo ya exisiste')"
   ]
  }
 ],
 "metadata": {
  "kernelspec": {
   "display_name": "Python 3",
   "language": "python",
   "name": "python3"
  },
  "language_info": {
   "codemirror_mode": {
    "name": "ipython",
    "version": 3
   },
   "file_extension": ".py",
   "mimetype": "text/x-python",
   "name": "python",
   "nbconvert_exporter": "python",
   "pygments_lexer": "ipython3",
   "version": "3.13.1"
  }
 },
 "nbformat": 4,
 "nbformat_minor": 2
}
