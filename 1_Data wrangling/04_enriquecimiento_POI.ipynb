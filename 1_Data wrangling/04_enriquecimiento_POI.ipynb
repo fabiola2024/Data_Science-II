{
 "cells": [
  {
   "cell_type": "markdown",
   "metadata": {},
   "source": [
    "El objetivo de esta notebook es el enriquecimiento del data de propiedades con la fusión con Argentina Points of Interest "
   ]
  },
  {
   "cell_type": "markdown",
   "metadata": {},
   "source": [
    "## Cargar el archivo KML"
   ]
  },
  {
   "cell_type": "code",
   "execution_count": 1,
   "metadata": {},
   "outputs": [],
   "source": [
    "import xml.etree.ElementTree as ET\n",
    "\n",
    "# Cargar el archivo KML\n",
    "tree = ET.parse(\"hotosm_arg_points_of_interest_points_kml.kml\")\n",
    "root = tree.getroot() \n",
    "#getroot()obtiene el nodo raíz de KML para comenzar a trabajar con los datos"
   ]
  },
  {
   "cell_type": "code",
   "execution_count": 2,
   "metadata": {},
   "outputs": [],
   "source": [
    "#indicación para decirle a Python: busca dentro del grupo de etiquetas KML\n",
    "namespace = {\"kml\": \"http://www.opengis.net/kml/2.2\"}"
   ]
  },
  {
   "cell_type": "code",
   "execution_count": 3,
   "metadata": {},
   "outputs": [],
   "source": [
    "# inicializo para ir guardando info\n",
    "name = []\n",
    "lat = []\n",
    "lon = []\n",
    "# Buscar todos los puntos <Placemark>\n",
    "for placemark in root.findall(\".//kml:Placemark\", namespace):\n",
    "    latlon = placemark.find(\".//kml:coordinates\", namespace)\n",
    "    try:\n",
    "        lat_, lon_ = latlon.text.strip().split(',')\n",
    "        name_ = placemark.find(\"kml:name\", namespace).text\n",
    "\n",
    "        lat.append(lat_)\n",
    "        lon.append(lon_)\n",
    "        name.append(name_)\n",
    "    except AttributeError:\n",
    "        pass\n"
   ]
  },
  {
   "cell_type": "markdown",
   "metadata": {},
   "source": [
    "### Creación dataframe con los POIS: df_pois"
   ]
  },
  {
   "cell_type": "code",
   "execution_count": 4,
   "metadata": {},
   "outputs": [
    {
     "name": "stdout",
     "output_type": "stream",
     "text": [
      "                            name          lat          lon\n",
      "0                          bench  -60.5445411  -33.8918493\n",
      "1           Estancia San Lorenzo  -63.8917999  -42.1324351\n",
      "2                          bench  -60.5445154  -33.8918687\n",
      "3  Nuevo Banco Del Chaco Makalle  -59.2864208  -27.2083748\n",
      "4                       Estancia  -63.3819324  -40.6975211\n"
     ]
    }
   ],
   "source": [
    "import pandas as pd\n",
    "#crear un dataframe con los POIS\n",
    "df_pois= pd.DataFrame({'name':name ,'lat':lat, 'lon':lon})\n",
    "\n",
    "print(df_pois.head())"
   ]
  },
  {
   "cell_type": "code",
   "execution_count": 5,
   "metadata": {},
   "outputs": [
    {
     "data": {
      "text/html": [
       "<div>\n",
       "<style scoped>\n",
       "    .dataframe tbody tr th:only-of-type {\n",
       "        vertical-align: middle;\n",
       "    }\n",
       "\n",
       "    .dataframe tbody tr th {\n",
       "        vertical-align: top;\n",
       "    }\n",
       "\n",
       "    .dataframe thead th {\n",
       "        text-align: right;\n",
       "    }\n",
       "</style>\n",
       "<table border=\"1\" class=\"dataframe\">\n",
       "  <thead>\n",
       "    <tr style=\"text-align: right;\">\n",
       "      <th></th>\n",
       "      <th>lat</th>\n",
       "      <th>lon</th>\n",
       "    </tr>\n",
       "  </thead>\n",
       "  <tbody>\n",
       "    <tr>\n",
       "      <th>count</th>\n",
       "      <td>246528</td>\n",
       "      <td>246528</td>\n",
       "    </tr>\n",
       "    <tr>\n",
       "      <th>unique</th>\n",
       "      <td>243924</td>\n",
       "      <td>242931</td>\n",
       "    </tr>\n",
       "    <tr>\n",
       "      <th>top</th>\n",
       "      <td>-69.129</td>\n",
       "      <td>-45.827</td>\n",
       "    </tr>\n",
       "    <tr>\n",
       "      <th>freq</th>\n",
       "      <td>7</td>\n",
       "      <td>15</td>\n",
       "    </tr>\n",
       "  </tbody>\n",
       "</table>\n",
       "</div>"
      ],
      "text/plain": [
       "            lat      lon\n",
       "count    246528   246528\n",
       "unique   243924   242931\n",
       "top     -69.129  -45.827\n",
       "freq          7       15"
      ]
     },
     "execution_count": 5,
     "metadata": {},
     "output_type": "execute_result"
    }
   ],
   "source": [
    "#chequear si los POIS estan en Argentina\n",
    "df_pois[['lat','lon']].describe()"
   ]
  },
  {
   "cell_type": "markdown",
   "metadata": {},
   "source": [
    "Insight:\n",
    "Con los valores estadisticos de lat y lon, podemos verificar que si los puntos están dentro de Argentina.\n",
    "\n",
    " Coordenadas de Argentina (aproximadas):\n",
    " \n",
    "Longitud (lon): de -73.5 (oeste, límite con Chile) hasta -53.6 (este, Misiones)\n",
    "\n",
    "Latitud (lat): de -55.1 (sur, Tierra del Fuego) hasta -21.8 (norte, Jujuy)"
   ]
  },
  {
   "cell_type": "code",
   "execution_count": 6,
   "metadata": {},
   "outputs": [
    {
     "name": "stdout",
     "output_type": "stream",
     "text": [
      "<class 'pandas.core.frame.DataFrame'>\n",
      "RangeIndex: 246528 entries, 0 to 246527\n",
      "Data columns (total 3 columns):\n",
      " #   Column  Non-Null Count   Dtype \n",
      "---  ------  --------------   ----- \n",
      " 0   name    246528 non-null  object\n",
      " 1   lat     246528 non-null  object\n",
      " 2   lon     246528 non-null  object\n",
      "dtypes: object(3)\n",
      "memory usage: 5.6+ MB\n"
     ]
    }
   ],
   "source": [
    "df_pois.info()"
   ]
  },
  {
   "cell_type": "code",
   "execution_count": 7,
   "metadata": {},
   "outputs": [
    {
     "name": "stdout",
     "output_type": "stream",
     "text": [
      "name     object\n",
      "lat     float64\n",
      "lon     float64\n",
      "dtype: object\n"
     ]
    }
   ],
   "source": [
    "#conversión  lat y lon a float\n",
    "df_pois['lat']= pd.to_numeric(df_pois['lat'], errors='coerce')\n",
    "df_pois['lon']= pd.to_numeric(df_pois['lon'], errors='coerce')\n",
    "\n",
    "print(df_pois.dtypes)"
   ]
  },
  {
   "cell_type": "code",
   "execution_count": 8,
   "metadata": {},
   "outputs": [
    {
     "data": {
      "text/plain": [
       "name\n",
       "bench             10560\n",
       "waste_basket       2452\n",
       "parking            1865\n",
       "fuel               1754\n",
       "toilets            1701\n",
       "atm                1392\n",
       "shelter            1188\n",
       "waste_disposal     1097\n",
       "pharmacy            948\n",
       "YPF                 933\n",
       "Name: count, dtype: int64"
      ]
     },
     "execution_count": 8,
     "metadata": {},
     "output_type": "execute_result"
    }
   ],
   "source": [
    "df_pois.name.value_counts().head(10)"
   ]
  },
  {
   "cell_type": "code",
   "execution_count": 9,
   "metadata": {},
   "outputs": [
    {
     "data": {
      "text/plain": [
       "name    163691\n",
       "lat     243924\n",
       "lon     242931\n",
       "dtype: int64"
      ]
     },
     "execution_count": 9,
     "metadata": {},
     "output_type": "execute_result"
    }
   ],
   "source": [
    "df_pois.nunique()"
   ]
  },
  {
   "cell_type": "code",
   "execution_count": 10,
   "metadata": {},
   "outputs": [
    {
     "data": {
      "text/plain": [
       "name    0\n",
       "lat     0\n",
       "lon     0\n",
       "dtype: int64"
      ]
     },
     "execution_count": 10,
     "metadata": {},
     "output_type": "execute_result"
    }
   ],
   "source": [
    "df_pois.isnull().sum()"
   ]
  },
  {
   "cell_type": "code",
   "execution_count": 11,
   "metadata": {},
   "outputs": [
    {
     "data": {
      "text/html": [
       "<div>\n",
       "<style scoped>\n",
       "    .dataframe tbody tr th:only-of-type {\n",
       "        vertical-align: middle;\n",
       "    }\n",
       "\n",
       "    .dataframe tbody tr th {\n",
       "        vertical-align: top;\n",
       "    }\n",
       "\n",
       "    .dataframe thead th {\n",
       "        text-align: right;\n",
       "    }\n",
       "</style>\n",
       "<table border=\"1\" class=\"dataframe\">\n",
       "  <thead>\n",
       "    <tr style=\"text-align: right;\">\n",
       "      <th></th>\n",
       "      <th>name</th>\n",
       "      <th>lat</th>\n",
       "      <th>lon</th>\n",
       "    </tr>\n",
       "  </thead>\n",
       "  <tbody>\n",
       "    <tr>\n",
       "      <th>11</th>\n",
       "      <td>Colegio General Martín Miguel de Güemes</td>\n",
       "      <td>-63.514570</td>\n",
       "      <td>-36.155606</td>\n",
       "    </tr>\n",
       "    <tr>\n",
       "      <th>15</th>\n",
       "      <td>Agrupamiento 86135 Escuela 811</td>\n",
       "      <td>-64.054212</td>\n",
       "      <td>-28.215283</td>\n",
       "    </tr>\n",
       "    <tr>\n",
       "      <th>20</th>\n",
       "      <td>Escuela Mariano Moreno</td>\n",
       "      <td>-64.043461</td>\n",
       "      <td>-31.046330</td>\n",
       "    </tr>\n",
       "    <tr>\n",
       "      <th>27</th>\n",
       "      <td>J.I.N. 13 en Escuela 133</td>\n",
       "      <td>-63.586801</td>\n",
       "      <td>-37.458493</td>\n",
       "    </tr>\n",
       "    <tr>\n",
       "      <th>33</th>\n",
       "      <td>Escuela Publica Leonila de las Meredes Lemos</td>\n",
       "      <td>-63.978015</td>\n",
       "      <td>-33.280378</td>\n",
       "    </tr>\n",
       "    <tr>\n",
       "      <th>...</th>\n",
       "      <td>...</td>\n",
       "      <td>...</td>\n",
       "      <td>...</td>\n",
       "    </tr>\n",
       "    <tr>\n",
       "      <th>246289</th>\n",
       "      <td>Escuela</td>\n",
       "      <td>-64.572734</td>\n",
       "      <td>-32.175220</td>\n",
       "    </tr>\n",
       "    <tr>\n",
       "      <th>246322</th>\n",
       "      <td>Comedor escolar de la Escuela 504</td>\n",
       "      <td>-61.334240</td>\n",
       "      <td>-33.800066</td>\n",
       "    </tr>\n",
       "    <tr>\n",
       "      <th>246328</th>\n",
       "      <td>Escuela N° 1250 \"Almirante Guillermo Brown\"</td>\n",
       "      <td>-60.701275</td>\n",
       "      <td>-31.632668</td>\n",
       "    </tr>\n",
       "    <tr>\n",
       "      <th>246503</th>\n",
       "      <td>Escuela de Educación Primaria N° 17 Juan Bauti...</td>\n",
       "      <td>-60.186197</td>\n",
       "      <td>-33.350238</td>\n",
       "    </tr>\n",
       "    <tr>\n",
       "      <th>246505</th>\n",
       "      <td>Escuela De Educación Primaria 8 Nicolas Avella...</td>\n",
       "      <td>-58.941959</td>\n",
       "      <td>-34.828812</td>\n",
       "    </tr>\n",
       "  </tbody>\n",
       "</table>\n",
       "<p>14391 rows × 3 columns</p>\n",
       "</div>"
      ],
      "text/plain": [
       "                                                     name        lat  \\\n",
       "11                Colegio General Martín Miguel de Güemes -63.514570   \n",
       "15                         Agrupamiento 86135 Escuela 811 -64.054212   \n",
       "20                                 Escuela Mariano Moreno -64.043461   \n",
       "27                               J.I.N. 13 en Escuela 133 -63.586801   \n",
       "33           Escuela Publica Leonila de las Meredes Lemos -63.978015   \n",
       "...                                                   ...        ...   \n",
       "246289                                            Escuela -64.572734   \n",
       "246322                  Comedor escolar de la Escuela 504 -61.334240   \n",
       "246328        Escuela N° 1250 \"Almirante Guillermo Brown\" -60.701275   \n",
       "246503  Escuela de Educación Primaria N° 17 Juan Bauti... -60.186197   \n",
       "246505  Escuela De Educación Primaria 8 Nicolas Avella... -58.941959   \n",
       "\n",
       "              lon  \n",
       "11     -36.155606  \n",
       "15     -28.215283  \n",
       "20     -31.046330  \n",
       "27     -37.458493  \n",
       "33     -33.280378  \n",
       "...           ...  \n",
       "246289 -32.175220  \n",
       "246322 -33.800066  \n",
       "246328 -31.632668  \n",
       "246503 -33.350238  \n",
       "246505 -34.828812  \n",
       "\n",
       "[14391 rows x 3 columns]"
      ]
     },
     "execution_count": 11,
     "metadata": {},
     "output_type": "execute_result"
    }
   ],
   "source": [
    "#exploración colegios\n",
    "df_pois[df_pois.name.str.lower().str.contains('escuela|colegio')]"
   ]
  },
  {
   "cell_type": "code",
   "execution_count": 12,
   "metadata": {},
   "outputs": [
    {
     "data": {
      "text/html": [
       "<div>\n",
       "<style scoped>\n",
       "    .dataframe tbody tr th:only-of-type {\n",
       "        vertical-align: middle;\n",
       "    }\n",
       "\n",
       "    .dataframe tbody tr th {\n",
       "        vertical-align: top;\n",
       "    }\n",
       "\n",
       "    .dataframe thead th {\n",
       "        text-align: right;\n",
       "    }\n",
       "</style>\n",
       "<table border=\"1\" class=\"dataframe\">\n",
       "  <thead>\n",
       "    <tr style=\"text-align: right;\">\n",
       "      <th></th>\n",
       "      <th>name</th>\n",
       "      <th>lat</th>\n",
       "      <th>lon</th>\n",
       "    </tr>\n",
       "  </thead>\n",
       "  <tbody>\n",
       "    <tr>\n",
       "      <th>1023</th>\n",
       "      <td>Universidad Popular UP Porteña</td>\n",
       "      <td>-62.070498</td>\n",
       "      <td>-31.012439</td>\n",
       "    </tr>\n",
       "    <tr>\n",
       "      <th>2907</th>\n",
       "      <td>Universidad Nacional De La Rioja - Sede Chamical</td>\n",
       "      <td>-66.312664</td>\n",
       "      <td>-30.368901</td>\n",
       "    </tr>\n",
       "    <tr>\n",
       "      <th>3730</th>\n",
       "      <td>Museo y Archivo Histórico de la Facultad de De...</td>\n",
       "      <td>-58.391535</td>\n",
       "      <td>-34.582599</td>\n",
       "    </tr>\n",
       "    <tr>\n",
       "      <th>4118</th>\n",
       "      <td>Universidad Nacional del noreste</td>\n",
       "      <td>-60.613359</td>\n",
       "      <td>-25.944989</td>\n",
       "    </tr>\n",
       "    <tr>\n",
       "      <th>5023</th>\n",
       "      <td>Biblioteca Central de la Universidad Nacional ...</td>\n",
       "      <td>-62.270050</td>\n",
       "      <td>-38.701749</td>\n",
       "    </tr>\n",
       "    <tr>\n",
       "      <th>...</th>\n",
       "      <td>...</td>\n",
       "      <td>...</td>\n",
       "      <td>...</td>\n",
       "    </tr>\n",
       "    <tr>\n",
       "      <th>241234</th>\n",
       "      <td>Buffet de la Facultad de Informática</td>\n",
       "      <td>-57.938256</td>\n",
       "      <td>-34.903678</td>\n",
       "    </tr>\n",
       "    <tr>\n",
       "      <th>241257</th>\n",
       "      <td>Facultad Relaciones Internacionales - UM</td>\n",
       "      <td>-68.860824</td>\n",
       "      <td>-32.891743</td>\n",
       "    </tr>\n",
       "    <tr>\n",
       "      <th>244085</th>\n",
       "      <td>Universidad CAECE</td>\n",
       "      <td>-58.378736</td>\n",
       "      <td>-34.609007</td>\n",
       "    </tr>\n",
       "    <tr>\n",
       "      <th>245222</th>\n",
       "      <td>Universidad Nacional del Comahue</td>\n",
       "      <td>-71.359182</td>\n",
       "      <td>-40.157148</td>\n",
       "    </tr>\n",
       "    <tr>\n",
       "      <th>245513</th>\n",
       "      <td>Universidad Tecnológica Nacional</td>\n",
       "      <td>-71.342326</td>\n",
       "      <td>-40.157162</td>\n",
       "    </tr>\n",
       "  </tbody>\n",
       "</table>\n",
       "<p>248 rows × 3 columns</p>\n",
       "</div>"
      ],
      "text/plain": [
       "                                                     name        lat  \\\n",
       "1023                       Universidad Popular UP Porteña -62.070498   \n",
       "2907     Universidad Nacional De La Rioja - Sede Chamical -66.312664   \n",
       "3730    Museo y Archivo Histórico de la Facultad de De... -58.391535   \n",
       "4118                     Universidad Nacional del noreste -60.613359   \n",
       "5023    Biblioteca Central de la Universidad Nacional ... -62.270050   \n",
       "...                                                   ...        ...   \n",
       "241234               Buffet de la Facultad de Informática -57.938256   \n",
       "241257           Facultad Relaciones Internacionales - UM -68.860824   \n",
       "244085                                  Universidad CAECE -58.378736   \n",
       "245222                   Universidad Nacional del Comahue -71.359182   \n",
       "245513                   Universidad Tecnológica Nacional -71.342326   \n",
       "\n",
       "              lon  \n",
       "1023   -31.012439  \n",
       "2907   -30.368901  \n",
       "3730   -34.582599  \n",
       "4118   -25.944989  \n",
       "5023   -38.701749  \n",
       "...           ...  \n",
       "241234 -34.903678  \n",
       "241257 -32.891743  \n",
       "244085 -34.609007  \n",
       "245222 -40.157148  \n",
       "245513 -40.157162  \n",
       "\n",
       "[248 rows x 3 columns]"
      ]
     },
     "execution_count": 12,
     "metadata": {},
     "output_type": "execute_result"
    }
   ],
   "source": [
    "#exploración universidades\n",
    "df_pois[df_pois.name.str.lower().str.contains('universidad|facultad')]"
   ]
  },
  {
   "cell_type": "code",
   "execution_count": 13,
   "metadata": {},
   "outputs": [
    {
     "data": {
      "text/html": [
       "<div>\n",
       "<style scoped>\n",
       "    .dataframe tbody tr th:only-of-type {\n",
       "        vertical-align: middle;\n",
       "    }\n",
       "\n",
       "    .dataframe tbody tr th {\n",
       "        vertical-align: top;\n",
       "    }\n",
       "\n",
       "    .dataframe thead th {\n",
       "        text-align: right;\n",
       "    }\n",
       "</style>\n",
       "<table border=\"1\" class=\"dataframe\">\n",
       "  <thead>\n",
       "    <tr style=\"text-align: right;\">\n",
       "      <th></th>\n",
       "      <th>name</th>\n",
       "      <th>lat</th>\n",
       "      <th>lon</th>\n",
       "    </tr>\n",
       "  </thead>\n",
       "  <tbody>\n",
       "    <tr>\n",
       "      <th>1458</th>\n",
       "      <td>After Office TRENDY Miercoles Palermo</td>\n",
       "      <td>-58.435788</td>\n",
       "      <td>-34.585834</td>\n",
       "    </tr>\n",
       "    <tr>\n",
       "      <th>2610</th>\n",
       "      <td>El Tren del Fin del Mundo</td>\n",
       "      <td>-68.423796</td>\n",
       "      <td>-54.833191</td>\n",
       "    </tr>\n",
       "    <tr>\n",
       "      <th>3678</th>\n",
       "      <td>Parroquia Castrense Inmaculada Concepción</td>\n",
       "      <td>-55.917151</td>\n",
       "      <td>-27.361687</td>\n",
       "    </tr>\n",
       "    <tr>\n",
       "      <th>3717</th>\n",
       "      <td>Tren Museo</td>\n",
       "      <td>-68.848527</td>\n",
       "      <td>-32.883689</td>\n",
       "    </tr>\n",
       "    <tr>\n",
       "      <th>7160</th>\n",
       "      <td>Boletería Tren internacional</td>\n",
       "      <td>-55.883905</td>\n",
       "      <td>-27.380325</td>\n",
       "    </tr>\n",
       "    <tr>\n",
       "      <th>...</th>\n",
       "      <td>...</td>\n",
       "      <td>...</td>\n",
       "      <td>...</td>\n",
       "    </tr>\n",
       "    <tr>\n",
       "      <th>238753</th>\n",
       "      <td>El Tren Mágico Boletería</td>\n",
       "      <td>-56.689690</td>\n",
       "      <td>-36.540511</td>\n",
       "    </tr>\n",
       "    <tr>\n",
       "      <th>238966</th>\n",
       "      <td>Parapente la Cuesta del Tren</td>\n",
       "      <td>-64.938582</td>\n",
       "      <td>-32.370769</td>\n",
       "    </tr>\n",
       "    <tr>\n",
       "      <th>239734</th>\n",
       "      <td>Jardín de infantes \"El Trencito Musical\"</td>\n",
       "      <td>-59.628438</td>\n",
       "      <td>-35.636357</td>\n",
       "    </tr>\n",
       "    <tr>\n",
       "      <th>241694</th>\n",
       "      <td>Playa de estacionamiento subterránea</td>\n",
       "      <td>-64.191713</td>\n",
       "      <td>-31.416834</td>\n",
       "    </tr>\n",
       "    <tr>\n",
       "      <th>245750</th>\n",
       "      <td>Motor Colectivo</td>\n",
       "      <td>-62.255791</td>\n",
       "      <td>-38.728928</td>\n",
       "    </tr>\n",
       "  </tbody>\n",
       "</table>\n",
       "<p>98 rows × 3 columns</p>\n",
       "</div>"
      ],
      "text/plain": [
       "                                             name        lat        lon\n",
       "1458        After Office TRENDY Miercoles Palermo -58.435788 -34.585834\n",
       "2610                    El Tren del Fin del Mundo -68.423796 -54.833191\n",
       "3678    Parroquia Castrense Inmaculada Concepción -55.917151 -27.361687\n",
       "3717                                   Tren Museo -68.848527 -32.883689\n",
       "7160                 Boletería Tren internacional -55.883905 -27.380325\n",
       "...                                           ...        ...        ...\n",
       "238753                   El Tren Mágico Boletería -56.689690 -36.540511\n",
       "238966               Parapente la Cuesta del Tren -64.938582 -32.370769\n",
       "239734   Jardín de infantes \"El Trencito Musical\" -59.628438 -35.636357\n",
       "241694       Playa de estacionamiento subterránea -64.191713 -31.416834\n",
       "245750                            Motor Colectivo -62.255791 -38.728928\n",
       "\n",
       "[98 rows x 3 columns]"
      ]
     },
     "execution_count": 13,
     "metadata": {},
     "output_type": "execute_result"
    }
   ],
   "source": [
    "#exploración tren, subte, y colectivos\n",
    "df_pois[df_pois.name.str.lower().str.contains('subte|tren|colectivo')]"
   ]
  },
  {
   "cell_type": "code",
   "execution_count": 14,
   "metadata": {},
   "outputs": [
    {
     "data": {
      "text/html": [
       "<div>\n",
       "<style scoped>\n",
       "    .dataframe tbody tr th:only-of-type {\n",
       "        vertical-align: middle;\n",
       "    }\n",
       "\n",
       "    .dataframe tbody tr th {\n",
       "        vertical-align: top;\n",
       "    }\n",
       "\n",
       "    .dataframe thead th {\n",
       "        text-align: right;\n",
       "    }\n",
       "</style>\n",
       "<table border=\"1\" class=\"dataframe\">\n",
       "  <thead>\n",
       "    <tr style=\"text-align: right;\">\n",
       "      <th></th>\n",
       "      <th>name</th>\n",
       "      <th>lat</th>\n",
       "      <th>lon</th>\n",
       "    </tr>\n",
       "  </thead>\n",
       "  <tbody>\n",
       "    <tr>\n",
       "      <th>111</th>\n",
       "      <td>hospital</td>\n",
       "      <td>-58.397022</td>\n",
       "      <td>-34.607249</td>\n",
       "    </tr>\n",
       "    <tr>\n",
       "      <th>255</th>\n",
       "      <td>Clinica Privada Etruria</td>\n",
       "      <td>-63.245006</td>\n",
       "      <td>-32.941266</td>\n",
       "    </tr>\n",
       "    <tr>\n",
       "      <th>303</th>\n",
       "      <td>Hospital Vespucio</td>\n",
       "      <td>-63.860679</td>\n",
       "      <td>-22.585783</td>\n",
       "    </tr>\n",
       "    <tr>\n",
       "      <th>305</th>\n",
       "      <td>Hospital General Mosconi</td>\n",
       "      <td>-63.811483</td>\n",
       "      <td>-22.594898</td>\n",
       "    </tr>\n",
       "    <tr>\n",
       "      <th>573</th>\n",
       "      <td>Hospital San Martín</td>\n",
       "      <td>-60.506294</td>\n",
       "      <td>-31.731757</td>\n",
       "    </tr>\n",
       "    <tr>\n",
       "      <th>...</th>\n",
       "      <td>...</td>\n",
       "      <td>...</td>\n",
       "      <td>...</td>\n",
       "    </tr>\n",
       "    <tr>\n",
       "      <th>245626</th>\n",
       "      <td>Nueva Clinica Privada Beccar</td>\n",
       "      <td>-58.529511</td>\n",
       "      <td>-34.460024</td>\n",
       "    </tr>\n",
       "    <tr>\n",
       "      <th>245855</th>\n",
       "      <td>Hospital</td>\n",
       "      <td>-65.624475</td>\n",
       "      <td>-33.053862</td>\n",
       "    </tr>\n",
       "    <tr>\n",
       "      <th>246121</th>\n",
       "      <td>Clinica San Bernardo</td>\n",
       "      <td>-56.680347</td>\n",
       "      <td>-36.687636</td>\n",
       "    </tr>\n",
       "    <tr>\n",
       "      <th>246318</th>\n",
       "      <td>Hospital de Rehabilitación Doctor Vera Candioti</td>\n",
       "      <td>-60.724931</td>\n",
       "      <td>-31.653125</td>\n",
       "    </tr>\n",
       "    <tr>\n",
       "      <th>246507</th>\n",
       "      <td>Hospital Veterinario Cruz Violeta</td>\n",
       "      <td>-62.266782</td>\n",
       "      <td>-38.713620</td>\n",
       "    </tr>\n",
       "  </tbody>\n",
       "</table>\n",
       "<p>1252 rows × 3 columns</p>\n",
       "</div>"
      ],
      "text/plain": [
       "                                                   name        lat        lon\n",
       "111                                            hospital -58.397022 -34.607249\n",
       "255                             Clinica Privada Etruria -63.245006 -32.941266\n",
       "303                                   Hospital Vespucio -63.860679 -22.585783\n",
       "305                            Hospital General Mosconi -63.811483 -22.594898\n",
       "573                                 Hospital San Martín -60.506294 -31.731757\n",
       "...                                                 ...        ...        ...\n",
       "245626                     Nueva Clinica Privada Beccar -58.529511 -34.460024\n",
       "245855                                         Hospital -65.624475 -33.053862\n",
       "246121                             Clinica San Bernardo -56.680347 -36.687636\n",
       "246318  Hospital de Rehabilitación Doctor Vera Candioti -60.724931 -31.653125\n",
       "246507                Hospital Veterinario Cruz Violeta -62.266782 -38.713620\n",
       "\n",
       "[1252 rows x 3 columns]"
      ]
     },
     "execution_count": 14,
     "metadata": {},
     "output_type": "execute_result"
    }
   ],
   "source": [
    "#exploración de hospitales, clinicas, sanatorios\n",
    "df_pois[df_pois.name.str.lower().str.contains('hospital|clinica|sanatorio')]"
   ]
  },
  {
   "cell_type": "code",
   "execution_count": 15,
   "metadata": {},
   "outputs": [
    {
     "data": {
      "text/html": [
       "<div>\n",
       "<style scoped>\n",
       "    .dataframe tbody tr th:only-of-type {\n",
       "        vertical-align: middle;\n",
       "    }\n",
       "\n",
       "    .dataframe tbody tr th {\n",
       "        vertical-align: top;\n",
       "    }\n",
       "\n",
       "    .dataframe thead th {\n",
       "        text-align: right;\n",
       "    }\n",
       "</style>\n",
       "<table border=\"1\" class=\"dataframe\">\n",
       "  <thead>\n",
       "    <tr style=\"text-align: right;\">\n",
       "      <th></th>\n",
       "      <th>name</th>\n",
       "      <th>lat</th>\n",
       "      <th>lon</th>\n",
       "    </tr>\n",
       "  </thead>\n",
       "  <tbody>\n",
       "    <tr>\n",
       "      <th>19</th>\n",
       "      <td>Plaza</td>\n",
       "      <td>-63.894945</td>\n",
       "      <td>-27.924300</td>\n",
       "    </tr>\n",
       "    <tr>\n",
       "      <th>330</th>\n",
       "      <td>Café de la Plaza</td>\n",
       "      <td>-71.352051</td>\n",
       "      <td>-40.157400</td>\n",
       "    </tr>\n",
       "    <tr>\n",
       "      <th>419</th>\n",
       "      <td>Guardaparque</td>\n",
       "      <td>-54.014529</td>\n",
       "      <td>-25.809204</td>\n",
       "    </tr>\n",
       "    <tr>\n",
       "      <th>1199</th>\n",
       "      <td>Residencial Plaza</td>\n",
       "      <td>-62.007134</td>\n",
       "      <td>-30.709975</td>\n",
       "    </tr>\n",
       "    <tr>\n",
       "      <th>1263</th>\n",
       "      <td>El Parque</td>\n",
       "      <td>-58.536577</td>\n",
       "      <td>-34.455258</td>\n",
       "    </tr>\n",
       "    <tr>\n",
       "      <th>...</th>\n",
       "      <td>...</td>\n",
       "      <td>...</td>\n",
       "      <td>...</td>\n",
       "    </tr>\n",
       "    <tr>\n",
       "      <th>245315</th>\n",
       "      <td>Plaza 3 Apart</td>\n",
       "      <td>-64.250976</td>\n",
       "      <td>-27.792992</td>\n",
       "    </tr>\n",
       "    <tr>\n",
       "      <th>245918</th>\n",
       "      <td>Panadería La Plaza</td>\n",
       "      <td>-71.463880</td>\n",
       "      <td>-43.079875</td>\n",
       "    </tr>\n",
       "    <tr>\n",
       "      <th>246059</th>\n",
       "      <td>Kiosco Plaza</td>\n",
       "      <td>-65.104485</td>\n",
       "      <td>-43.299756</td>\n",
       "    </tr>\n",
       "    <tr>\n",
       "      <th>246117</th>\n",
       "      <td>Confitería La Plaza</td>\n",
       "      <td>-65.105874</td>\n",
       "      <td>-43.300223</td>\n",
       "    </tr>\n",
       "    <tr>\n",
       "      <th>246266</th>\n",
       "      <td>PlazaUno</td>\n",
       "      <td>-71.296053</td>\n",
       "      <td>-41.132294</td>\n",
       "    </tr>\n",
       "  </tbody>\n",
       "</table>\n",
       "<p>831 rows × 3 columns</p>\n",
       "</div>"
      ],
      "text/plain": [
       "                       name        lat        lon\n",
       "19                    Plaza -63.894945 -27.924300\n",
       "330        Café de la Plaza -71.352051 -40.157400\n",
       "419            Guardaparque -54.014529 -25.809204\n",
       "1199      Residencial Plaza -62.007134 -30.709975\n",
       "1263              El Parque -58.536577 -34.455258\n",
       "...                     ...        ...        ...\n",
       "245315        Plaza 3 Apart -64.250976 -27.792992\n",
       "245918   Panadería La Plaza -71.463880 -43.079875\n",
       "246059         Kiosco Plaza -65.104485 -43.299756\n",
       "246117  Confitería La Plaza -65.105874 -43.300223\n",
       "246266             PlazaUno -71.296053 -41.132294\n",
       "\n",
       "[831 rows x 3 columns]"
      ]
     },
     "execution_count": 15,
     "metadata": {},
     "output_type": "execute_result"
    }
   ],
   "source": [
    "#exploración de parques\n",
    "df_pois[df_pois.name.str.lower().str.contains('parque|plaza')]\n"
   ]
  },
  {
   "cell_type": "code",
   "execution_count": 16,
   "metadata": {},
   "outputs": [],
   "source": [
    "df_pois.to_csv('../data/---external u otras fuentes/df_pois.csv', index=False)"
   ]
  },
  {
   "cell_type": "code",
   "execution_count": 17,
   "metadata": {},
   "outputs": [
    {
     "name": "stdout",
     "output_type": "stream",
     "text": [
      "el archivo ya exisiste\n"
     ]
    }
   ],
   "source": [
    "import os\n",
    "\n",
    "# Verificar si el archivo ya existe\n",
    "file_path = '../data/---external u otras fuentes/df_pois.csv'\n",
    "\n",
    "#guardar el csv\n",
    "if not os.path.exists(file_path):\n",
    "    df_pois.to_csv(file_path, index= False)\n",
    "    print('archivo guardado')\n",
    "else:\n",
    "    print('el archivo ya exisiste')"
   ]
  },
  {
   "cell_type": "markdown",
   "metadata": {},
   "source": [
    "## Cargar dataset: df_propiedades"
   ]
  },
  {
   "cell_type": "code",
   "execution_count": 18,
   "metadata": {},
   "outputs": [],
   "source": [
    "import pandas as pd\n",
    "df_propiedades=pd.read_csv('../data/---datos limpios/df_propiedades.csv')"
   ]
  },
  {
   "cell_type": "code",
   "execution_count": 19,
   "metadata": {},
   "outputs": [
    {
     "name": "stdout",
     "output_type": "stream",
     "text": [
      "<class 'pandas.core.frame.DataFrame'>\n",
      "RangeIndex: 609185 entries, 0 to 609184\n",
      "Data columns (total 23 columns):\n",
      " #   Column                   Non-Null Count   Dtype  \n",
      "---  ------                   --------------   -----  \n",
      " 0   localidad                609185 non-null  object \n",
      " 1   id                       609185 non-null  object \n",
      " 2   ad_type                  609185 non-null  object \n",
      " 3   start_date               609185 non-null  object \n",
      " 4   end_date                 609185 non-null  object \n",
      " 5   created_on               609185 non-null  object \n",
      " 6   lat                      609185 non-null  float64\n",
      " 7   lon                      609185 non-null  float64\n",
      " 8   país                     609185 non-null  object \n",
      " 9   provincia                609185 non-null  object \n",
      " 10  rooms                    609185 non-null  float64\n",
      " 11  bedrooms                 609185 non-null  float64\n",
      " 12  bathrooms                609185 non-null  float64\n",
      " 13  surface_total            609185 non-null  float64\n",
      " 14  surface_covered          609185 non-null  float64\n",
      " 15  price                    609185 non-null  float64\n",
      " 16  currency                 609185 non-null  object \n",
      " 17  price_period             222062 non-null  object \n",
      " 18  title                    609184 non-null  object \n",
      " 19  description              609161 non-null  object \n",
      " 20  property_type            609185 non-null  object \n",
      " 21  operation_type           609185 non-null  object \n",
      " 22  outlier_surface_covered  609185 non-null  bool   \n",
      "dtypes: bool(1), float64(8), object(14)\n",
      "memory usage: 102.8+ MB\n"
     ]
    }
   ],
   "source": [
    "df_propiedades.info()"
   ]
  },
  {
   "cell_type": "markdown",
   "metadata": {},
   "source": [
    "## Opción 1"
   ]
  },
  {
   "cell_type": "markdown",
   "metadata": {},
   "source": [
    "Se intentara cruzar df_pois con df_propiedades para encontrar distancias cercanas de hospitales, escuelas, universidades, parques."
   ]
  },
  {
   "cell_type": "code",
   "execution_count": 20,
   "metadata": {},
   "outputs": [],
   "source": [
    "import geopandas as gpd\n",
    "from shapely.geometry import Point\n",
    "\n",
    "# Paso 1: Crear GeoDataFrames\n",
    "gdf_propiedades = gpd.GeoDataFrame(\n",
    "    df_propiedades,\n",
    "    geometry=gpd.points_from_xy(df_propiedades['lon'], df_propiedades['lat']),\n",
    "    crs=\"EPSG:4326\"\n",
    ")\n",
    "\n",
    "gdf_pois = gpd.GeoDataFrame(\n",
    "    df_pois,\n",
    "    geometry=gpd.points_from_xy(df_pois['lon'], df_pois['lat']),\n",
    "    crs=\"EPSG:4326\"\n",
    ")"
   ]
  },
  {
   "cell_type": "code",
   "execution_count": 21,
   "metadata": {},
   "outputs": [],
   "source": [
    "# Paso 2: Convertir a coordenadas métricas para calcular distancia en metros\n",
    "gdf_propiedades = gdf_propiedades.to_crs(\"EPSG:3857\")\n",
    "gdf_pois = gdf_pois.to_crs(\"EPSG:3857\")"
   ]
  },
  {
   "cell_type": "code",
   "execution_count": 22,
   "metadata": {},
   "outputs": [
    {
     "name": "stderr",
     "output_type": "stream",
     "text": [
      "<>:3: SyntaxWarning: invalid escape sequence '\\.'\n",
      "<>:4: SyntaxWarning: invalid escape sequence '\\.'\n",
      "<>:3: SyntaxWarning: invalid escape sequence '\\.'\n",
      "<>:4: SyntaxWarning: invalid escape sequence '\\.'\n",
      "C:\\Users\\NB USER\\AppData\\Local\\Temp\\ipykernel_7744\\47204136.py:3: SyntaxWarning: invalid escape sequence '\\.'\n",
      "  'universidad': 'universidad|facultad|tecnológica|universitario|univ\\.|u\\.n\\.|uca|uba',\n",
      "C:\\Users\\NB USER\\AppData\\Local\\Temp\\ipykernel_7744\\47204136.py:4: SyntaxWarning: invalid escape sequence '\\.'\n",
      "  'escuela': 'escuela|colegio|primaria|secundaria|educación|jardín|e\\.e\\.p\\.|e\\.e\\.s\\.|e\\.e\\.m\\.|e\\.e\\.t\\.|e\\.n\\.s\\.|educativo|nivel',\n"
     ]
    }
   ],
   "source": [
    "categorias = {\n",
    "    'hospital': 'hospital|clínica|sanatorio|salud|centro médico|unidad sanitaria',\n",
    "    'universidad': 'universidad|facultad|tecnológica|universitario|univ\\.|u\\.n\\.|uca|uba',\n",
    "    'escuela': 'escuela|colegio|primaria|secundaria|educación|jardín|e\\.e\\.p\\.|e\\.e\\.s\\.|e\\.e\\.m\\.|e\\.e\\.t\\.|e\\.n\\.s\\.|educativo|nivel',\n",
    "    'parque': 'plaza|parque|reserva|espacio verde',\n",
    "    # Si luego querés agregar 'transporte', lo agregás acá también\n",
    "}"
   ]
  },
  {
   "cell_type": "markdown",
   "metadata": {},
   "source": [
    "Visualización rapida de las coinicidencias"
   ]
  },
  {
   "cell_type": "code",
   "execution_count": 23,
   "metadata": {},
   "outputs": [
    {
     "name": "stdout",
     "output_type": "stream",
     "text": [
      "hospital: 3183 coincidencias\n",
      "universidad: 5135 coincidencias\n",
      "escuela: 18611 coincidencias\n",
      "parque: 885 coincidencias\n"
     ]
    }
   ],
   "source": [
    "for categoria, pattern in categorias.items():\n",
    "    coincidencias = gdf_pois[gdf_pois['name'].str.lower().str.contains(pattern, na=False, regex=True)]\n",
    "    print(f\"{categoria}: {len(coincidencias)} coincidencias\")\n"
   ]
  },
  {
   "cell_type": "code",
   "execution_count": 24,
   "metadata": {},
   "outputs": [
    {
     "name": "stdout",
     "output_type": "stream",
     "text": [
      "Procesando categoría: hospital...\n",
      "✓ Completado: distancia_hospital_m\n",
      "Procesando categoría: universidad...\n",
      "✓ Completado: distancia_universidad_m\n",
      "Procesando categoría: escuela...\n",
      "✓ Completado: distancia_escuela_m\n",
      "Procesando categoría: parque...\n",
      "✓ Completado: distancia_parque_m\n"
     ]
    }
   ],
   "source": [
    "from shapely.strtree import STRtree\n",
    "\n",
    "for categoria, pattern in categorias.items():\n",
    "    print(f\"Procesando categoría: {categoria}...\")\n",
    "\n",
    "    gdf_categoria = gdf_pois[gdf_pois['name'].str.lower().str.contains(pattern, na=False, regex=True)]\n",
    "\n",
    "    if gdf_categoria.empty:\n",
    "        gdf_propiedades[f'distancia_{categoria}_m'] = None\n",
    "        continue\n",
    "\n",
    "    geometries = gdf_categoria.geometry.values\n",
    "    tree = STRtree(geometries)\n",
    "\n",
    "    # Calcular la distancia mínima, con verificación de lista vacía\n",
    "    def calcular_distancia_mas_cercana(geom):\n",
    "        candidatos = tree.query(geom)\n",
    "        if len(candidatos) == 0:\n",
    "            return None\n",
    "        return min(geom.distance(poi) for poi in candidatos)\n",
    "\n",
    "    distancias = gdf_propiedades.geometry.apply(calcular_distancia_mas_cercana)\n",
    "\n",
    "    gdf_propiedades[f'distancia_{categoria}_m'] = distancias\n",
    "\n",
    "    print(f\"✓ Completado: distancia_{categoria}_m\")"
   ]
  },
  {
   "cell_type": "code",
   "execution_count": 25,
   "metadata": {},
   "outputs": [
    {
     "name": "stdout",
     "output_type": "stream",
     "text": [
      "19       POINT (-3108518.868 -9323136.753)\n",
      "330     POINT (-4470301.308 -11523734.588)\n",
      "419       POINT (-2873067.447 -7172908.45)\n",
      "1199     POINT (-3418618.824 -8860834.517)\n",
      "1263      POINT (-3835541.753 -8080890.55)\n",
      "Name: geometry, dtype: geometry\n",
      "EPSG:3857\n"
     ]
    }
   ],
   "source": [
    "print(gdf_categoria.geometry.head())\n",
    "print(gdf_categoria.crs)"
   ]
  },
  {
   "cell_type": "code",
   "execution_count": 26,
   "metadata": {},
   "outputs": [
    {
     "name": "stdout",
     "output_type": "stream",
     "text": [
      "0    POINT (-6531580.508 -4080756.036)\n",
      "1    POINT (-6526716.737 -4116205.825)\n",
      "2    POINT (-6522302.841 -4116407.125)\n",
      "3    POINT (-6531007.269 -4115179.776)\n",
      "4     POINT (-6528040.876 -4111798.66)\n",
      "Name: geometry, dtype: geometry\n",
      "EPSG:3857\n"
     ]
    }
   ],
   "source": [
    "print(gdf_propiedades.geometry.head())\n",
    "print(gdf_propiedades.crs)"
   ]
  },
  {
   "cell_type": "code",
   "execution_count": 37,
   "metadata": {},
   "outputs": [
    {
     "data": {
      "text/plain": [
       "['pizza gigante',\n",
       " 'centro provincial de salud infantil',\n",
       " 'grido',\n",
       " 'ypf.sc.cs-2162',\n",
       " 'auto parabrisas y cristales',\n",
       " 'bomberos voluntarios de tartagal',\n",
       " 'ypf.ch.e-1096(d)',\n",
       " 'aoc.ch.z-179',\n",
       " 'parking_entrance',\n",
       " 'la casa del cd',\n",
       " 'ypf.sc.cl-640',\n",
       " 'división canes',\n",
       " 'forestal san miguel',\n",
       " 'fountain',\n",
       " 'tpt.sc.elma-2005',\n",
       " 'craft beer',\n",
       " 'centro medico obra social del personal de alimentos delegacion santa rosa',\n",
       " 'jesús',\n",
       " 'comedor santa maria de los pobres',\n",
       " 'ast.ch.ae-700']"
      ]
     },
     "execution_count": 37,
     "metadata": {},
     "output_type": "execute_result"
    }
   ],
   "source": [
    "gdf_pois['name'].str.lower().sample(20).tolist()\n"
   ]
  },
  {
   "cell_type": "code",
   "execution_count": 35,
   "metadata": {},
   "outputs": [
    {
     "name": "stdout",
     "output_type": "stream",
     "text": [
      "<class 'geopandas.geodataframe.GeoDataFrame'>\n",
      "RangeIndex: 609185 entries, 0 to 609184\n",
      "Data columns (total 28 columns):\n",
      " #   Column                   Non-Null Count   Dtype   \n",
      "---  ------                   --------------   -----   \n",
      " 0   localidad                609185 non-null  object  \n",
      " 1   id                       609185 non-null  object  \n",
      " 2   ad_type                  609185 non-null  object  \n",
      " 3   start_date               609185 non-null  object  \n",
      " 4   end_date                 609185 non-null  object  \n",
      " 5   created_on               609185 non-null  object  \n",
      " 6   lat                      609185 non-null  float64 \n",
      " 7   lon                      609185 non-null  float64 \n",
      " 8   país                     609185 non-null  object  \n",
      " 9   provincia                609185 non-null  object  \n",
      " 10  rooms                    609185 non-null  float64 \n",
      " 11  bedrooms                 609185 non-null  float64 \n",
      " 12  bathrooms                609185 non-null  float64 \n",
      " 13  surface_total            609185 non-null  float64 \n",
      " 14  surface_covered          609185 non-null  float64 \n",
      " 15  price                    609185 non-null  float64 \n",
      " 16  currency                 609185 non-null  object  \n",
      " 17  price_period             222062 non-null  object  \n",
      " 18  title                    609184 non-null  object  \n",
      " 19  description              609161 non-null  object  \n",
      " 20  property_type            609185 non-null  object  \n",
      " 21  operation_type           609185 non-null  object  \n",
      " 22  outlier_surface_covered  609185 non-null  bool    \n",
      " 23  geometry                 609185 non-null  geometry\n",
      " 24  distancia_hospital_m     0 non-null       geometry\n",
      " 25  distancia_universidad_m  0 non-null       geometry\n",
      " 26  distancia_escuela_m      0 non-null       geometry\n",
      " 27  distancia_parque_m       0 non-null       geometry\n",
      "dtypes: bool(1), float64(8), geometry(5), object(14)\n",
      "memory usage: 126.1+ MB\n"
     ]
    }
   ],
   "source": [
    "gdf_propiedades.info()"
   ]
  },
  {
   "cell_type": "markdown",
   "metadata": {},
   "source": [
    "Se decidio suspender el enriquecimiento con los df_pois porque no encontre un metodo para realizarlo."
   ]
  }
 ],
 "metadata": {
  "kernelspec": {
   "display_name": "Python 3",
   "language": "python",
   "name": "python3"
  },
  "language_info": {
   "codemirror_mode": {
    "name": "ipython",
    "version": 3
   },
   "file_extension": ".py",
   "mimetype": "text/x-python",
   "name": "python",
   "nbconvert_exporter": "python",
   "pygments_lexer": "ipython3",
   "version": "3.13.1"
  }
 },
 "nbformat": 4,
 "nbformat_minor": 2
}
